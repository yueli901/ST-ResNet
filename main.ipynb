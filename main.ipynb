{
 "cells": [
  {
   "cell_type": "code",
   "execution_count": 1,
   "id": "fbe3613c-6de5-4faa-84ee-2c25a6d06477",
   "metadata": {},
   "outputs": [],
   "source": [
    "import os, sys\n",
    "import logging\n",
    "import tensorflow as tf\n",
    "import datetime\n",
    "from model import ST_ResNet\n",
    "from preprocessing.BatchGenerator import batch_generator\n",
    "from preprocessing.TaxiBJ import load_data"
   ]
  },
  {
   "cell_type": "code",
   "execution_count": 2,
   "id": "b33f0483-834d-4795-b9dd-703fe6cd5ba2",
   "metadata": {},
   "outputs": [],
   "source": [
    "### system and log setting ###\n",
    "logging.basicConfig(level=logging.DEBUG, format=' %(levelname)s - %(message)s')\n",
    "# log_dir = os.path.join(\"train_logs\", datetime.datetime.now().strftime(\"%Y%m%d-%H%M%S\"))\n",
    "model_path = os.path.join(\"model_logs\", datetime.datetime.now().strftime(\"%Y%m%d-%H%M%S\"))\n",
    "\n",
    "### model hyperparameters ###\n",
    "nb_epoch = 50  # number of epoch\n",
    "batch_size = 32  # batch size\n",
    "T = 48  # number of time intervals in one day\n",
    "len_closeness = 3  # length of closeness dependent sequence\n",
    "len_period = 3  # length of  period dependent sequence\n",
    "len_trend = 3  # length of trend dependent sequence\n",
    "days_test = 7 * 4 # number of days for test\n",
    "len_test = T * days_test # number of time intervals for test\n",
    "map_height, map_width = 32, 32 # resolution of map\n",
    "nb_flow = 2 # number of map channel or in-out flows\n",
    "lr = 0.001 # learning rate\n",
    "nb_filters = 64 # number of filters in CNN (except conv2)\n",
    "nb_residual_unit = 12 # number of residual unit\n",
    "batchnorm = True # whether perform batch normalization in ResUnit"
   ]
  },
  {
   "cell_type": "code",
   "execution_count": 3,
   "id": "ee1a27d7-2377-441a-99ea-9b80baa60007",
   "metadata": {},
   "outputs": [
    {
     "name": "stdout",
     "output_type": "stream",
     "text": [
      "load /Users/yueli/Desktop/PhD/research/data/TaxiBJ/CACHE/TaxiBJ_C3_P3_T3.h5 successfully\n"
     ]
    }
   ],
   "source": [
    "# convert original data to sequencial data for each available time point\n",
    "# perform minmax normalization, merging external variables, train-test split\n",
    "X_train, Y_train, X_test, Y_test, mmn, external_dim, timestamp_train, timestamp_test = \\\n",
    "    load_data(len_closeness=len_closeness, len_period=len_period, len_trend=len_trend, len_test=len_test)"
   ]
  },
  {
   "cell_type": "code",
   "execution_count": null,
   "id": "df678c6a-837a-4765-8d70-d4f9435b1523",
   "metadata": {},
   "outputs": [
    {
     "name": "stdout",
     "output_type": "stream",
     "text": [
      "(6528, 32, 32, 6)\n",
      "(6528, 32, 32, 6)\n",
      "(6528, 32, 32, 6)\n",
      "(6528, 28)\n",
      "(6528, 32, 32, 2)\n",
      "(1344, 32, 32, 6)\n",
      "(1344, 32, 32, 6)\n",
      "(1344, 32, 32, 6)\n",
      "(1344, 28)\n",
      "(1344, 32, 32, 2)\n",
      "28\n",
      "6528\n",
      "1344\n"
     ]
    }
   ],
   "source": [
    "print(X_train[0].shape)\n",
    "print(X_train[1].shape)\n",
    "print(X_train[2].shape)\n",
    "print(X_train[3].shape)\n",
    "print(Y_train.shape)\n",
    "print(X_test[0].shape)\n",
    "print(X_test[1].shape)\n",
    "print(X_test[2].shape)\n",
    "print(X_test[3].shape)\n",
    "print(Y_test.shape)\n",
    "print(external_dim)\n",
    "print(len(timestamp_train))\n",
    "print(len(timestamp_test))"
   ]
  },
  {
   "cell_type": "code",
   "execution_count": 5,
   "id": "6eb77a5b-ec07-4eef-8f4c-a7d3cc327755",
   "metadata": {},
   "outputs": [],
   "source": [
    "# obtain an iterator for the next batch\n",
    "train_batch_generator = batch_generator(X_train, Y_train, batch_size)\n",
    "test_batch_generator = batch_generator(X_test, Y_test, batch_size)"
   ]
  },
  {
   "cell_type": "code",
   "execution_count": 6,
   "id": "4a76fe26-aecc-4989-a57b-0f5f8f14109d",
   "metadata": {},
   "outputs": [],
   "source": [
    "# create an instance of the graph object\n",
    "g = ST_ResNet(lr=lr,nb_filters=nb_filters,nb_flow=nb_flow,nb_residual_unit=nb_residual_unit,batchnorm=batchnorm)\n",
    "\n",
    "# invoke the forward pass to specify the input shape\n",
    "closeness_shape = (1, map_height, map_width, len_closeness * nb_flow)\n",
    "period_shape = (1, map_height, map_width, len_period * nb_flow)\n",
    "trend_shape = (1, map_height, map_width, len_trend * nb_flow)\n",
    "ext_shape = (1, external_dim)\n",
    "\n",
    "dummy_closeness = tf.random.normal(closeness_shape)\n",
    "dummy_period = tf.random.normal(period_shape)\n",
    "dummy_trend = tf.random.normal(trend_shape)\n",
    "dummy_ext = tf.random.normal(ext_shape)\n",
    "\n",
    "dummy_output = g(dummy_closeness, dummy_period, dummy_trend, dummy_ext)"
   ]
  },
  {
   "cell_type": "code",
   "execution_count": null,
   "id": "377b07f4-9420-4251-8668-6e64f7f8cd5e",
   "metadata": {},
   "outputs": [],
   "source": [
    "RMSE = []"
   ]
  },
  {
   "cell_type": "code",
   "execution_count": 7,
   "id": "6d717063-d385-42b0-8e20-335040164e96",
   "metadata": {},
   "outputs": [
    {
     "name": "stdout",
     "output_type": "stream",
     "text": [
      "Epoch: 0\t\n"
     ]
    },
    {
     "name": "stderr",
     "output_type": "stream",
     "text": [
      "2023-04-08 12:25:47.522248: W tensorflow/core/platform/profile_utils/cpu_utils.cc:128] Failed to get CPU frequency: 0 Hz\n"
     ]
    },
    {
     "name": "stdout",
     "output_type": "stream",
     "text": [
      "WARNING:tensorflow:AutoGraph could not transform <bound method MinMaxNormalization.inverse_transform of <preprocessing.MinMaxNormalization.MinMaxNormalization object at 0x106378220>> and will run it as-is.\n",
      "Cause: Unable to locate the source code of <bound method MinMaxNormalization.inverse_transform of <preprocessing.MinMaxNormalization.MinMaxNormalization object at 0x106378220>>. Note that functions defined in certain environments, like the interactive Python shell, do not expose their source code. If that is the case, you should define them in a .py source file. If you are certain the code is graph-compatible, wrap the call using @tf.autograph.experimental.do_not_convert. Original error: lineno is out of bounds\n",
      "To silence this warning, decorate the function with @tf.autograph.experimental.do_not_convert\n"
     ]
    },
    {
     "name": "stderr",
     "output_type": "stream",
     "text": [
      " WARNING - AutoGraph could not transform <bound method MinMaxNormalization.inverse_transform of <preprocessing.MinMaxNormalization.MinMaxNormalization object at 0x106378220>> and will run it as-is.\n",
      "Cause: Unable to locate the source code of <bound method MinMaxNormalization.inverse_transform of <preprocessing.MinMaxNormalization.MinMaxNormalization object at 0x106378220>>. Note that functions defined in certain environments, like the interactive Python shell, do not expose their source code. If that is the case, you should define them in a .py source file. If you are certain the code is graph-compatible, wrap the call using @tf.autograph.experimental.do_not_convert. Original error: lineno is out of bounds\n",
      "To silence this warning, decorate the function with @tf.autograph.experimental.do_not_convert\n"
     ]
    },
    {
     "name": "stdout",
     "output_type": "stream",
     "text": [
      "WARNING: AutoGraph could not transform <bound method MinMaxNormalization.inverse_transform of <preprocessing.MinMaxNormalization.MinMaxNormalization object at 0x106378220>> and will run it as-is.\n",
      "Cause: Unable to locate the source code of <bound method MinMaxNormalization.inverse_transform of <preprocessing.MinMaxNormalization.MinMaxNormalization object at 0x106378220>>. Note that functions defined in certain environments, like the interactive Python shell, do not expose their source code. If that is the case, you should define them in a .py source file. If you are certain the code is graph-compatible, wrap the call using @tf.autograph.experimental.do_not_convert. Original error: lineno is out of bounds\n",
      "To silence this warning, decorate the function with @tf.autograph.experimental.do_not_convert\n",
      "MSE_train: 0.10941, RMSE_test: 45.37596\n",
      "INFO:tensorflow:Unsupported signature for serialization: ((((TensorSpec(shape=(32, 32, 32, 6), dtype=tf.float64, name='data/0/0'), TensorSpec(shape=(32, 32, 32, 6), dtype=tf.float64, name='data/0/1'), TensorSpec(shape=(32, 32, 32, 6), dtype=tf.float64, name='data/0/2'), TensorSpec(shape=(32, 28), dtype=tf.float64, name='data/0/3')), TensorSpec(shape=(32, 32, 32, 2), dtype=tf.float64, name='data/1')), <tensorflow.python.framework.func_graph.UnknownArgument object at 0x148f1c520>), {}).\n"
     ]
    },
    {
     "name": "stderr",
     "output_type": "stream",
     "text": [
      " INFO - Unsupported signature for serialization: ((((TensorSpec(shape=(32, 32, 32, 6), dtype=tf.float64, name='data/0/0'), TensorSpec(shape=(32, 32, 32, 6), dtype=tf.float64, name='data/0/1'), TensorSpec(shape=(32, 32, 32, 6), dtype=tf.float64, name='data/0/2'), TensorSpec(shape=(32, 28), dtype=tf.float64, name='data/0/3')), TensorSpec(shape=(32, 32, 32, 2), dtype=tf.float64, name='data/1')), <tensorflow.python.framework.func_graph.UnknownArgument object at 0x148f1c520>), {}).\n"
     ]
    },
    {
     "name": "stdout",
     "output_type": "stream",
     "text": [
      "INFO:tensorflow:Unsupported signature for serialization: ((((TensorSpec(shape=(32, 32, 32, 6), dtype=tf.float64, name='data/0/0'), TensorSpec(shape=(32, 32, 32, 6), dtype=tf.float64, name='data/0/1'), TensorSpec(shape=(32, 32, 32, 6), dtype=tf.float64, name='data/0/2'), TensorSpec(shape=(32, 28), dtype=tf.float64, name='data/0/3')), TensorSpec(shape=(32, 32, 32, 2), dtype=tf.float64, name='data/1')), <tensorflow.python.framework.func_graph.UnknownArgument object at 0x148f1c520>), {}).\n"
     ]
    },
    {
     "name": "stderr",
     "output_type": "stream",
     "text": [
      " INFO - Unsupported signature for serialization: ((((TensorSpec(shape=(32, 32, 32, 6), dtype=tf.float64, name='data/0/0'), TensorSpec(shape=(32, 32, 32, 6), dtype=tf.float64, name='data/0/1'), TensorSpec(shape=(32, 32, 32, 6), dtype=tf.float64, name='data/0/2'), TensorSpec(shape=(32, 28), dtype=tf.float64, name='data/0/3')), TensorSpec(shape=(32, 32, 32, 2), dtype=tf.float64, name='data/1')), <tensorflow.python.framework.func_graph.UnknownArgument object at 0x148f1c520>), {}).\n",
      " WARNING - Found untraced functions such as test_step, conv2d_layer_call_fn, conv2d_layer_call_and_return_conditional_losses, _jit_compiled_convolution_op, conv2d_25_layer_call_fn while saving (showing 5 of 455). These functions will not be directly callable after loading.\n"
     ]
    },
    {
     "name": "stdout",
     "output_type": "stream",
     "text": [
      "INFO:tensorflow:Assets written to: model_logs/20230408-122535/assets\n"
     ]
    },
    {
     "name": "stderr",
     "output_type": "stream",
     "text": [
      " INFO - Assets written to: model_logs/20230408-122535/assets\n"
     ]
    },
    {
     "name": "stdout",
     "output_type": "stream",
     "text": [
      "Epoch: 1\t\n",
      "MSE_train: 0.00360, RMSE_test: 39.62339\n",
      "INFO:tensorflow:Unsupported signature for serialization: ((((TensorSpec(shape=(32, 32, 32, 6), dtype=tf.float64, name='data/0/0'), TensorSpec(shape=(32, 32, 32, 6), dtype=tf.float64, name='data/0/1'), TensorSpec(shape=(32, 32, 32, 6), dtype=tf.float64, name='data/0/2'), TensorSpec(shape=(32, 28), dtype=tf.float64, name='data/0/3')), TensorSpec(shape=(32, 32, 32, 2), dtype=tf.float64, name='data/1')), <tensorflow.python.framework.func_graph.UnknownArgument object at 0x148f1c520>), {}).\n"
     ]
    },
    {
     "name": "stderr",
     "output_type": "stream",
     "text": [
      " INFO - Unsupported signature for serialization: ((((TensorSpec(shape=(32, 32, 32, 6), dtype=tf.float64, name='data/0/0'), TensorSpec(shape=(32, 32, 32, 6), dtype=tf.float64, name='data/0/1'), TensorSpec(shape=(32, 32, 32, 6), dtype=tf.float64, name='data/0/2'), TensorSpec(shape=(32, 28), dtype=tf.float64, name='data/0/3')), TensorSpec(shape=(32, 32, 32, 2), dtype=tf.float64, name='data/1')), <tensorflow.python.framework.func_graph.UnknownArgument object at 0x148f1c520>), {}).\n"
     ]
    },
    {
     "name": "stdout",
     "output_type": "stream",
     "text": [
      "INFO:tensorflow:Unsupported signature for serialization: ((((TensorSpec(shape=(32, 32, 32, 6), dtype=tf.float64, name='data/0/0'), TensorSpec(shape=(32, 32, 32, 6), dtype=tf.float64, name='data/0/1'), TensorSpec(shape=(32, 32, 32, 6), dtype=tf.float64, name='data/0/2'), TensorSpec(shape=(32, 28), dtype=tf.float64, name='data/0/3')), TensorSpec(shape=(32, 32, 32, 2), dtype=tf.float64, name='data/1')), <tensorflow.python.framework.func_graph.UnknownArgument object at 0x148f1c520>), {}).\n"
     ]
    },
    {
     "name": "stderr",
     "output_type": "stream",
     "text": [
      " INFO - Unsupported signature for serialization: ((((TensorSpec(shape=(32, 32, 32, 6), dtype=tf.float64, name='data/0/0'), TensorSpec(shape=(32, 32, 32, 6), dtype=tf.float64, name='data/0/1'), TensorSpec(shape=(32, 32, 32, 6), dtype=tf.float64, name='data/0/2'), TensorSpec(shape=(32, 28), dtype=tf.float64, name='data/0/3')), TensorSpec(shape=(32, 32, 32, 2), dtype=tf.float64, name='data/1')), <tensorflow.python.framework.func_graph.UnknownArgument object at 0x148f1c520>), {}).\n",
      " WARNING - Found untraced functions such as test_step, conv2d_layer_call_fn, conv2d_layer_call_and_return_conditional_losses, _jit_compiled_convolution_op, conv2d_25_layer_call_fn while saving (showing 5 of 455). These functions will not be directly callable after loading.\n"
     ]
    },
    {
     "name": "stdout",
     "output_type": "stream",
     "text": [
      "INFO:tensorflow:Assets written to: model_logs/20230408-122535/assets\n"
     ]
    },
    {
     "name": "stderr",
     "output_type": "stream",
     "text": [
      " INFO - Assets written to: model_logs/20230408-122535/assets\n"
     ]
    },
    {
     "name": "stdout",
     "output_type": "stream",
     "text": [
      "Epoch: 2\t\n",
      "MSE_train: 0.00250, RMSE_test: 32.93599\n",
      "INFO:tensorflow:Unsupported signature for serialization: ((((TensorSpec(shape=(32, 32, 32, 6), dtype=tf.float64, name='data/0/0'), TensorSpec(shape=(32, 32, 32, 6), dtype=tf.float64, name='data/0/1'), TensorSpec(shape=(32, 32, 32, 6), dtype=tf.float64, name='data/0/2'), TensorSpec(shape=(32, 28), dtype=tf.float64, name='data/0/3')), TensorSpec(shape=(32, 32, 32, 2), dtype=tf.float64, name='data/1')), <tensorflow.python.framework.func_graph.UnknownArgument object at 0x148f1c520>), {}).\n"
     ]
    },
    {
     "name": "stderr",
     "output_type": "stream",
     "text": [
      " INFO - Unsupported signature for serialization: ((((TensorSpec(shape=(32, 32, 32, 6), dtype=tf.float64, name='data/0/0'), TensorSpec(shape=(32, 32, 32, 6), dtype=tf.float64, name='data/0/1'), TensorSpec(shape=(32, 32, 32, 6), dtype=tf.float64, name='data/0/2'), TensorSpec(shape=(32, 28), dtype=tf.float64, name='data/0/3')), TensorSpec(shape=(32, 32, 32, 2), dtype=tf.float64, name='data/1')), <tensorflow.python.framework.func_graph.UnknownArgument object at 0x148f1c520>), {}).\n"
     ]
    },
    {
     "name": "stdout",
     "output_type": "stream",
     "text": [
      "INFO:tensorflow:Unsupported signature for serialization: ((((TensorSpec(shape=(32, 32, 32, 6), dtype=tf.float64, name='data/0/0'), TensorSpec(shape=(32, 32, 32, 6), dtype=tf.float64, name='data/0/1'), TensorSpec(shape=(32, 32, 32, 6), dtype=tf.float64, name='data/0/2'), TensorSpec(shape=(32, 28), dtype=tf.float64, name='data/0/3')), TensorSpec(shape=(32, 32, 32, 2), dtype=tf.float64, name='data/1')), <tensorflow.python.framework.func_graph.UnknownArgument object at 0x148f1c520>), {}).\n"
     ]
    },
    {
     "name": "stderr",
     "output_type": "stream",
     "text": [
      " INFO - Unsupported signature for serialization: ((((TensorSpec(shape=(32, 32, 32, 6), dtype=tf.float64, name='data/0/0'), TensorSpec(shape=(32, 32, 32, 6), dtype=tf.float64, name='data/0/1'), TensorSpec(shape=(32, 32, 32, 6), dtype=tf.float64, name='data/0/2'), TensorSpec(shape=(32, 28), dtype=tf.float64, name='data/0/3')), TensorSpec(shape=(32, 32, 32, 2), dtype=tf.float64, name='data/1')), <tensorflow.python.framework.func_graph.UnknownArgument object at 0x148f1c520>), {}).\n",
      " WARNING - Found untraced functions such as test_step, conv2d_layer_call_fn, conv2d_layer_call_and_return_conditional_losses, _jit_compiled_convolution_op, conv2d_25_layer_call_fn while saving (showing 5 of 455). These functions will not be directly callable after loading.\n"
     ]
    },
    {
     "name": "stdout",
     "output_type": "stream",
     "text": [
      "INFO:tensorflow:Assets written to: model_logs/20230408-122535/assets\n"
     ]
    },
    {
     "name": "stderr",
     "output_type": "stream",
     "text": [
      " INFO - Assets written to: model_logs/20230408-122535/assets\n"
     ]
    },
    {
     "name": "stdout",
     "output_type": "stream",
     "text": [
      "Epoch: 3\t\n",
      "MSE_train: 0.00201, RMSE_test: 29.87171\n",
      "INFO:tensorflow:Unsupported signature for serialization: ((((TensorSpec(shape=(32, 32, 32, 6), dtype=tf.float64, name='data/0/0'), TensorSpec(shape=(32, 32, 32, 6), dtype=tf.float64, name='data/0/1'), TensorSpec(shape=(32, 32, 32, 6), dtype=tf.float64, name='data/0/2'), TensorSpec(shape=(32, 28), dtype=tf.float64, name='data/0/3')), TensorSpec(shape=(32, 32, 32, 2), dtype=tf.float64, name='data/1')), <tensorflow.python.framework.func_graph.UnknownArgument object at 0x148f1c520>), {}).\n"
     ]
    },
    {
     "name": "stderr",
     "output_type": "stream",
     "text": [
      " INFO - Unsupported signature for serialization: ((((TensorSpec(shape=(32, 32, 32, 6), dtype=tf.float64, name='data/0/0'), TensorSpec(shape=(32, 32, 32, 6), dtype=tf.float64, name='data/0/1'), TensorSpec(shape=(32, 32, 32, 6), dtype=tf.float64, name='data/0/2'), TensorSpec(shape=(32, 28), dtype=tf.float64, name='data/0/3')), TensorSpec(shape=(32, 32, 32, 2), dtype=tf.float64, name='data/1')), <tensorflow.python.framework.func_graph.UnknownArgument object at 0x148f1c520>), {}).\n"
     ]
    },
    {
     "name": "stdout",
     "output_type": "stream",
     "text": [
      "INFO:tensorflow:Unsupported signature for serialization: ((((TensorSpec(shape=(32, 32, 32, 6), dtype=tf.float64, name='data/0/0'), TensorSpec(shape=(32, 32, 32, 6), dtype=tf.float64, name='data/0/1'), TensorSpec(shape=(32, 32, 32, 6), dtype=tf.float64, name='data/0/2'), TensorSpec(shape=(32, 28), dtype=tf.float64, name='data/0/3')), TensorSpec(shape=(32, 32, 32, 2), dtype=tf.float64, name='data/1')), <tensorflow.python.framework.func_graph.UnknownArgument object at 0x148f1c520>), {}).\n"
     ]
    },
    {
     "name": "stderr",
     "output_type": "stream",
     "text": [
      " INFO - Unsupported signature for serialization: ((((TensorSpec(shape=(32, 32, 32, 6), dtype=tf.float64, name='data/0/0'), TensorSpec(shape=(32, 32, 32, 6), dtype=tf.float64, name='data/0/1'), TensorSpec(shape=(32, 32, 32, 6), dtype=tf.float64, name='data/0/2'), TensorSpec(shape=(32, 28), dtype=tf.float64, name='data/0/3')), TensorSpec(shape=(32, 32, 32, 2), dtype=tf.float64, name='data/1')), <tensorflow.python.framework.func_graph.UnknownArgument object at 0x148f1c520>), {}).\n",
      " WARNING - Found untraced functions such as test_step, conv2d_layer_call_fn, conv2d_layer_call_and_return_conditional_losses, _jit_compiled_convolution_op, conv2d_25_layer_call_fn while saving (showing 5 of 455). These functions will not be directly callable after loading.\n"
     ]
    },
    {
     "name": "stdout",
     "output_type": "stream",
     "text": [
      "INFO:tensorflow:Assets written to: model_logs/20230408-122535/assets\n"
     ]
    },
    {
     "name": "stderr",
     "output_type": "stream",
     "text": [
      " INFO - Assets written to: model_logs/20230408-122535/assets\n"
     ]
    },
    {
     "name": "stdout",
     "output_type": "stream",
     "text": [
      "Epoch: 4\t\n",
      "MSE_train: 0.00175, RMSE_test: 28.61286\n",
      "INFO:tensorflow:Unsupported signature for serialization: ((((TensorSpec(shape=(32, 32, 32, 6), dtype=tf.float64, name='data/0/0'), TensorSpec(shape=(32, 32, 32, 6), dtype=tf.float64, name='data/0/1'), TensorSpec(shape=(32, 32, 32, 6), dtype=tf.float64, name='data/0/2'), TensorSpec(shape=(32, 28), dtype=tf.float64, name='data/0/3')), TensorSpec(shape=(32, 32, 32, 2), dtype=tf.float64, name='data/1')), <tensorflow.python.framework.func_graph.UnknownArgument object at 0x148f1c520>), {}).\n"
     ]
    },
    {
     "name": "stderr",
     "output_type": "stream",
     "text": [
      " INFO - Unsupported signature for serialization: ((((TensorSpec(shape=(32, 32, 32, 6), dtype=tf.float64, name='data/0/0'), TensorSpec(shape=(32, 32, 32, 6), dtype=tf.float64, name='data/0/1'), TensorSpec(shape=(32, 32, 32, 6), dtype=tf.float64, name='data/0/2'), TensorSpec(shape=(32, 28), dtype=tf.float64, name='data/0/3')), TensorSpec(shape=(32, 32, 32, 2), dtype=tf.float64, name='data/1')), <tensorflow.python.framework.func_graph.UnknownArgument object at 0x148f1c520>), {}).\n"
     ]
    },
    {
     "name": "stdout",
     "output_type": "stream",
     "text": [
      "INFO:tensorflow:Unsupported signature for serialization: ((((TensorSpec(shape=(32, 32, 32, 6), dtype=tf.float64, name='data/0/0'), TensorSpec(shape=(32, 32, 32, 6), dtype=tf.float64, name='data/0/1'), TensorSpec(shape=(32, 32, 32, 6), dtype=tf.float64, name='data/0/2'), TensorSpec(shape=(32, 28), dtype=tf.float64, name='data/0/3')), TensorSpec(shape=(32, 32, 32, 2), dtype=tf.float64, name='data/1')), <tensorflow.python.framework.func_graph.UnknownArgument object at 0x148f1c520>), {}).\n"
     ]
    },
    {
     "name": "stderr",
     "output_type": "stream",
     "text": [
      " INFO - Unsupported signature for serialization: ((((TensorSpec(shape=(32, 32, 32, 6), dtype=tf.float64, name='data/0/0'), TensorSpec(shape=(32, 32, 32, 6), dtype=tf.float64, name='data/0/1'), TensorSpec(shape=(32, 32, 32, 6), dtype=tf.float64, name='data/0/2'), TensorSpec(shape=(32, 28), dtype=tf.float64, name='data/0/3')), TensorSpec(shape=(32, 32, 32, 2), dtype=tf.float64, name='data/1')), <tensorflow.python.framework.func_graph.UnknownArgument object at 0x148f1c520>), {}).\n",
      " WARNING - Found untraced functions such as test_step, conv2d_layer_call_fn, conv2d_layer_call_and_return_conditional_losses, _jit_compiled_convolution_op, conv2d_25_layer_call_fn while saving (showing 5 of 455). These functions will not be directly callable after loading.\n"
     ]
    },
    {
     "name": "stdout",
     "output_type": "stream",
     "text": [
      "INFO:tensorflow:Assets written to: model_logs/20230408-122535/assets\n"
     ]
    },
    {
     "name": "stderr",
     "output_type": "stream",
     "text": [
      " INFO - Assets written to: model_logs/20230408-122535/assets\n"
     ]
    },
    {
     "name": "stdout",
     "output_type": "stream",
     "text": [
      "Epoch: 5\t\n",
      "MSE_train: 0.00159, RMSE_test: 27.49276\n",
      "INFO:tensorflow:Unsupported signature for serialization: ((((TensorSpec(shape=(32, 32, 32, 6), dtype=tf.float64, name='data/0/0'), TensorSpec(shape=(32, 32, 32, 6), dtype=tf.float64, name='data/0/1'), TensorSpec(shape=(32, 32, 32, 6), dtype=tf.float64, name='data/0/2'), TensorSpec(shape=(32, 28), dtype=tf.float64, name='data/0/3')), TensorSpec(shape=(32, 32, 32, 2), dtype=tf.float64, name='data/1')), <tensorflow.python.framework.func_graph.UnknownArgument object at 0x148f1c520>), {}).\n"
     ]
    },
    {
     "name": "stderr",
     "output_type": "stream",
     "text": [
      " INFO - Unsupported signature for serialization: ((((TensorSpec(shape=(32, 32, 32, 6), dtype=tf.float64, name='data/0/0'), TensorSpec(shape=(32, 32, 32, 6), dtype=tf.float64, name='data/0/1'), TensorSpec(shape=(32, 32, 32, 6), dtype=tf.float64, name='data/0/2'), TensorSpec(shape=(32, 28), dtype=tf.float64, name='data/0/3')), TensorSpec(shape=(32, 32, 32, 2), dtype=tf.float64, name='data/1')), <tensorflow.python.framework.func_graph.UnknownArgument object at 0x148f1c520>), {}).\n"
     ]
    },
    {
     "name": "stdout",
     "output_type": "stream",
     "text": [
      "INFO:tensorflow:Unsupported signature for serialization: ((((TensorSpec(shape=(32, 32, 32, 6), dtype=tf.float64, name='data/0/0'), TensorSpec(shape=(32, 32, 32, 6), dtype=tf.float64, name='data/0/1'), TensorSpec(shape=(32, 32, 32, 6), dtype=tf.float64, name='data/0/2'), TensorSpec(shape=(32, 28), dtype=tf.float64, name='data/0/3')), TensorSpec(shape=(32, 32, 32, 2), dtype=tf.float64, name='data/1')), <tensorflow.python.framework.func_graph.UnknownArgument object at 0x148f1c520>), {}).\n"
     ]
    },
    {
     "name": "stderr",
     "output_type": "stream",
     "text": [
      " INFO - Unsupported signature for serialization: ((((TensorSpec(shape=(32, 32, 32, 6), dtype=tf.float64, name='data/0/0'), TensorSpec(shape=(32, 32, 32, 6), dtype=tf.float64, name='data/0/1'), TensorSpec(shape=(32, 32, 32, 6), dtype=tf.float64, name='data/0/2'), TensorSpec(shape=(32, 28), dtype=tf.float64, name='data/0/3')), TensorSpec(shape=(32, 32, 32, 2), dtype=tf.float64, name='data/1')), <tensorflow.python.framework.func_graph.UnknownArgument object at 0x148f1c520>), {}).\n",
      " WARNING - Found untraced functions such as test_step, conv2d_layer_call_fn, conv2d_layer_call_and_return_conditional_losses, _jit_compiled_convolution_op, conv2d_25_layer_call_fn while saving (showing 5 of 455). These functions will not be directly callable after loading.\n"
     ]
    },
    {
     "name": "stdout",
     "output_type": "stream",
     "text": [
      "INFO:tensorflow:Assets written to: model_logs/20230408-122535/assets\n"
     ]
    },
    {
     "name": "stderr",
     "output_type": "stream",
     "text": [
      " INFO - Assets written to: model_logs/20230408-122535/assets\n"
     ]
    },
    {
     "name": "stdout",
     "output_type": "stream",
     "text": [
      "Epoch: 6\t\n",
      "MSE_train: 0.00146, RMSE_test: 26.61662\n",
      "INFO:tensorflow:Unsupported signature for serialization: ((((TensorSpec(shape=(32, 32, 32, 6), dtype=tf.float64, name='data/0/0'), TensorSpec(shape=(32, 32, 32, 6), dtype=tf.float64, name='data/0/1'), TensorSpec(shape=(32, 32, 32, 6), dtype=tf.float64, name='data/0/2'), TensorSpec(shape=(32, 28), dtype=tf.float64, name='data/0/3')), TensorSpec(shape=(32, 32, 32, 2), dtype=tf.float64, name='data/1')), <tensorflow.python.framework.func_graph.UnknownArgument object at 0x148f1c520>), {}).\n"
     ]
    },
    {
     "name": "stderr",
     "output_type": "stream",
     "text": [
      " INFO - Unsupported signature for serialization: ((((TensorSpec(shape=(32, 32, 32, 6), dtype=tf.float64, name='data/0/0'), TensorSpec(shape=(32, 32, 32, 6), dtype=tf.float64, name='data/0/1'), TensorSpec(shape=(32, 32, 32, 6), dtype=tf.float64, name='data/0/2'), TensorSpec(shape=(32, 28), dtype=tf.float64, name='data/0/3')), TensorSpec(shape=(32, 32, 32, 2), dtype=tf.float64, name='data/1')), <tensorflow.python.framework.func_graph.UnknownArgument object at 0x148f1c520>), {}).\n"
     ]
    },
    {
     "name": "stdout",
     "output_type": "stream",
     "text": [
      "INFO:tensorflow:Unsupported signature for serialization: ((((TensorSpec(shape=(32, 32, 32, 6), dtype=tf.float64, name='data/0/0'), TensorSpec(shape=(32, 32, 32, 6), dtype=tf.float64, name='data/0/1'), TensorSpec(shape=(32, 32, 32, 6), dtype=tf.float64, name='data/0/2'), TensorSpec(shape=(32, 28), dtype=tf.float64, name='data/0/3')), TensorSpec(shape=(32, 32, 32, 2), dtype=tf.float64, name='data/1')), <tensorflow.python.framework.func_graph.UnknownArgument object at 0x148f1c520>), {}).\n"
     ]
    },
    {
     "name": "stderr",
     "output_type": "stream",
     "text": [
      " INFO - Unsupported signature for serialization: ((((TensorSpec(shape=(32, 32, 32, 6), dtype=tf.float64, name='data/0/0'), TensorSpec(shape=(32, 32, 32, 6), dtype=tf.float64, name='data/0/1'), TensorSpec(shape=(32, 32, 32, 6), dtype=tf.float64, name='data/0/2'), TensorSpec(shape=(32, 28), dtype=tf.float64, name='data/0/3')), TensorSpec(shape=(32, 32, 32, 2), dtype=tf.float64, name='data/1')), <tensorflow.python.framework.func_graph.UnknownArgument object at 0x148f1c520>), {}).\n",
      " WARNING - Found untraced functions such as test_step, conv2d_layer_call_fn, conv2d_layer_call_and_return_conditional_losses, _jit_compiled_convolution_op, conv2d_25_layer_call_fn while saving (showing 5 of 455). These functions will not be directly callable after loading.\n"
     ]
    },
    {
     "name": "stdout",
     "output_type": "stream",
     "text": [
      "INFO:tensorflow:Assets written to: model_logs/20230408-122535/assets\n"
     ]
    },
    {
     "name": "stderr",
     "output_type": "stream",
     "text": [
      " INFO - Assets written to: model_logs/20230408-122535/assets\n"
     ]
    },
    {
     "name": "stdout",
     "output_type": "stream",
     "text": [
      "Epoch: 7\t\n",
      "MSE_train: 0.00137, RMSE_test: 26.18781\n",
      "INFO:tensorflow:Unsupported signature for serialization: ((((TensorSpec(shape=(32, 32, 32, 6), dtype=tf.float64, name='data/0/0'), TensorSpec(shape=(32, 32, 32, 6), dtype=tf.float64, name='data/0/1'), TensorSpec(shape=(32, 32, 32, 6), dtype=tf.float64, name='data/0/2'), TensorSpec(shape=(32, 28), dtype=tf.float64, name='data/0/3')), TensorSpec(shape=(32, 32, 32, 2), dtype=tf.float64, name='data/1')), <tensorflow.python.framework.func_graph.UnknownArgument object at 0x148f1c520>), {}).\n"
     ]
    },
    {
     "name": "stderr",
     "output_type": "stream",
     "text": [
      " INFO - Unsupported signature for serialization: ((((TensorSpec(shape=(32, 32, 32, 6), dtype=tf.float64, name='data/0/0'), TensorSpec(shape=(32, 32, 32, 6), dtype=tf.float64, name='data/0/1'), TensorSpec(shape=(32, 32, 32, 6), dtype=tf.float64, name='data/0/2'), TensorSpec(shape=(32, 28), dtype=tf.float64, name='data/0/3')), TensorSpec(shape=(32, 32, 32, 2), dtype=tf.float64, name='data/1')), <tensorflow.python.framework.func_graph.UnknownArgument object at 0x148f1c520>), {}).\n"
     ]
    },
    {
     "name": "stdout",
     "output_type": "stream",
     "text": [
      "INFO:tensorflow:Unsupported signature for serialization: ((((TensorSpec(shape=(32, 32, 32, 6), dtype=tf.float64, name='data/0/0'), TensorSpec(shape=(32, 32, 32, 6), dtype=tf.float64, name='data/0/1'), TensorSpec(shape=(32, 32, 32, 6), dtype=tf.float64, name='data/0/2'), TensorSpec(shape=(32, 28), dtype=tf.float64, name='data/0/3')), TensorSpec(shape=(32, 32, 32, 2), dtype=tf.float64, name='data/1')), <tensorflow.python.framework.func_graph.UnknownArgument object at 0x148f1c520>), {}).\n"
     ]
    },
    {
     "name": "stderr",
     "output_type": "stream",
     "text": [
      " INFO - Unsupported signature for serialization: ((((TensorSpec(shape=(32, 32, 32, 6), dtype=tf.float64, name='data/0/0'), TensorSpec(shape=(32, 32, 32, 6), dtype=tf.float64, name='data/0/1'), TensorSpec(shape=(32, 32, 32, 6), dtype=tf.float64, name='data/0/2'), TensorSpec(shape=(32, 28), dtype=tf.float64, name='data/0/3')), TensorSpec(shape=(32, 32, 32, 2), dtype=tf.float64, name='data/1')), <tensorflow.python.framework.func_graph.UnknownArgument object at 0x148f1c520>), {}).\n",
      " WARNING - Found untraced functions such as test_step, conv2d_layer_call_fn, conv2d_layer_call_and_return_conditional_losses, _jit_compiled_convolution_op, conv2d_25_layer_call_fn while saving (showing 5 of 455). These functions will not be directly callable after loading.\n"
     ]
    },
    {
     "name": "stdout",
     "output_type": "stream",
     "text": [
      "INFO:tensorflow:Assets written to: model_logs/20230408-122535/assets\n"
     ]
    },
    {
     "name": "stderr",
     "output_type": "stream",
     "text": [
      " INFO - Assets written to: model_logs/20230408-122535/assets\n"
     ]
    },
    {
     "name": "stdout",
     "output_type": "stream",
     "text": [
      "Epoch: 8\t\n",
      "MSE_train: 0.00130, RMSE_test: 25.37658\n",
      "INFO:tensorflow:Unsupported signature for serialization: ((((TensorSpec(shape=(32, 32, 32, 6), dtype=tf.float64, name='data/0/0'), TensorSpec(shape=(32, 32, 32, 6), dtype=tf.float64, name='data/0/1'), TensorSpec(shape=(32, 32, 32, 6), dtype=tf.float64, name='data/0/2'), TensorSpec(shape=(32, 28), dtype=tf.float64, name='data/0/3')), TensorSpec(shape=(32, 32, 32, 2), dtype=tf.float64, name='data/1')), <tensorflow.python.framework.func_graph.UnknownArgument object at 0x148f1c520>), {}).\n"
     ]
    },
    {
     "name": "stderr",
     "output_type": "stream",
     "text": [
      " INFO - Unsupported signature for serialization: ((((TensorSpec(shape=(32, 32, 32, 6), dtype=tf.float64, name='data/0/0'), TensorSpec(shape=(32, 32, 32, 6), dtype=tf.float64, name='data/0/1'), TensorSpec(shape=(32, 32, 32, 6), dtype=tf.float64, name='data/0/2'), TensorSpec(shape=(32, 28), dtype=tf.float64, name='data/0/3')), TensorSpec(shape=(32, 32, 32, 2), dtype=tf.float64, name='data/1')), <tensorflow.python.framework.func_graph.UnknownArgument object at 0x148f1c520>), {}).\n"
     ]
    },
    {
     "name": "stdout",
     "output_type": "stream",
     "text": [
      "INFO:tensorflow:Unsupported signature for serialization: ((((TensorSpec(shape=(32, 32, 32, 6), dtype=tf.float64, name='data/0/0'), TensorSpec(shape=(32, 32, 32, 6), dtype=tf.float64, name='data/0/1'), TensorSpec(shape=(32, 32, 32, 6), dtype=tf.float64, name='data/0/2'), TensorSpec(shape=(32, 28), dtype=tf.float64, name='data/0/3')), TensorSpec(shape=(32, 32, 32, 2), dtype=tf.float64, name='data/1')), <tensorflow.python.framework.func_graph.UnknownArgument object at 0x148f1c520>), {}).\n"
     ]
    },
    {
     "name": "stderr",
     "output_type": "stream",
     "text": [
      " INFO - Unsupported signature for serialization: ((((TensorSpec(shape=(32, 32, 32, 6), dtype=tf.float64, name='data/0/0'), TensorSpec(shape=(32, 32, 32, 6), dtype=tf.float64, name='data/0/1'), TensorSpec(shape=(32, 32, 32, 6), dtype=tf.float64, name='data/0/2'), TensorSpec(shape=(32, 28), dtype=tf.float64, name='data/0/3')), TensorSpec(shape=(32, 32, 32, 2), dtype=tf.float64, name='data/1')), <tensorflow.python.framework.func_graph.UnknownArgument object at 0x148f1c520>), {}).\n",
      " WARNING - Found untraced functions such as test_step, conv2d_layer_call_fn, conv2d_layer_call_and_return_conditional_losses, _jit_compiled_convolution_op, conv2d_25_layer_call_fn while saving (showing 5 of 455). These functions will not be directly callable after loading.\n"
     ]
    },
    {
     "name": "stdout",
     "output_type": "stream",
     "text": [
      "INFO:tensorflow:Assets written to: model_logs/20230408-122535/assets\n"
     ]
    },
    {
     "name": "stderr",
     "output_type": "stream",
     "text": [
      " INFO - Assets written to: model_logs/20230408-122535/assets\n"
     ]
    },
    {
     "name": "stdout",
     "output_type": "stream",
     "text": [
      "Epoch: 9\t\n",
      "MSE_train: 0.00126, RMSE_test: 24.98054\n",
      "INFO:tensorflow:Unsupported signature for serialization: ((((TensorSpec(shape=(32, 32, 32, 6), dtype=tf.float64, name='data/0/0'), TensorSpec(shape=(32, 32, 32, 6), dtype=tf.float64, name='data/0/1'), TensorSpec(shape=(32, 32, 32, 6), dtype=tf.float64, name='data/0/2'), TensorSpec(shape=(32, 28), dtype=tf.float64, name='data/0/3')), TensorSpec(shape=(32, 32, 32, 2), dtype=tf.float64, name='data/1')), <tensorflow.python.framework.func_graph.UnknownArgument object at 0x148f1c520>), {}).\n"
     ]
    },
    {
     "name": "stderr",
     "output_type": "stream",
     "text": [
      " INFO - Unsupported signature for serialization: ((((TensorSpec(shape=(32, 32, 32, 6), dtype=tf.float64, name='data/0/0'), TensorSpec(shape=(32, 32, 32, 6), dtype=tf.float64, name='data/0/1'), TensorSpec(shape=(32, 32, 32, 6), dtype=tf.float64, name='data/0/2'), TensorSpec(shape=(32, 28), dtype=tf.float64, name='data/0/3')), TensorSpec(shape=(32, 32, 32, 2), dtype=tf.float64, name='data/1')), <tensorflow.python.framework.func_graph.UnknownArgument object at 0x148f1c520>), {}).\n"
     ]
    },
    {
     "name": "stdout",
     "output_type": "stream",
     "text": [
      "INFO:tensorflow:Unsupported signature for serialization: ((((TensorSpec(shape=(32, 32, 32, 6), dtype=tf.float64, name='data/0/0'), TensorSpec(shape=(32, 32, 32, 6), dtype=tf.float64, name='data/0/1'), TensorSpec(shape=(32, 32, 32, 6), dtype=tf.float64, name='data/0/2'), TensorSpec(shape=(32, 28), dtype=tf.float64, name='data/0/3')), TensorSpec(shape=(32, 32, 32, 2), dtype=tf.float64, name='data/1')), <tensorflow.python.framework.func_graph.UnknownArgument object at 0x148f1c520>), {}).\n"
     ]
    },
    {
     "name": "stderr",
     "output_type": "stream",
     "text": [
      " INFO - Unsupported signature for serialization: ((((TensorSpec(shape=(32, 32, 32, 6), dtype=tf.float64, name='data/0/0'), TensorSpec(shape=(32, 32, 32, 6), dtype=tf.float64, name='data/0/1'), TensorSpec(shape=(32, 32, 32, 6), dtype=tf.float64, name='data/0/2'), TensorSpec(shape=(32, 28), dtype=tf.float64, name='data/0/3')), TensorSpec(shape=(32, 32, 32, 2), dtype=tf.float64, name='data/1')), <tensorflow.python.framework.func_graph.UnknownArgument object at 0x148f1c520>), {}).\n",
      " WARNING - Found untraced functions such as test_step, conv2d_layer_call_fn, conv2d_layer_call_and_return_conditional_losses, _jit_compiled_convolution_op, conv2d_25_layer_call_fn while saving (showing 5 of 455). These functions will not be directly callable after loading.\n"
     ]
    },
    {
     "name": "stdout",
     "output_type": "stream",
     "text": [
      "INFO:tensorflow:Assets written to: model_logs/20230408-122535/assets\n"
     ]
    },
    {
     "name": "stderr",
     "output_type": "stream",
     "text": [
      " INFO - Assets written to: model_logs/20230408-122535/assets\n"
     ]
    },
    {
     "name": "stdout",
     "output_type": "stream",
     "text": [
      "Epoch: 10\t\n",
      "MSE_train: 0.00120, RMSE_test: 25.10297\n",
      "INFO:tensorflow:Unsupported signature for serialization: ((((TensorSpec(shape=(32, 32, 32, 6), dtype=tf.float64, name='data/0/0'), TensorSpec(shape=(32, 32, 32, 6), dtype=tf.float64, name='data/0/1'), TensorSpec(shape=(32, 32, 32, 6), dtype=tf.float64, name='data/0/2'), TensorSpec(shape=(32, 28), dtype=tf.float64, name='data/0/3')), TensorSpec(shape=(32, 32, 32, 2), dtype=tf.float64, name='data/1')), <tensorflow.python.framework.func_graph.UnknownArgument object at 0x148f1c520>), {}).\n"
     ]
    },
    {
     "name": "stderr",
     "output_type": "stream",
     "text": [
      " INFO - Unsupported signature for serialization: ((((TensorSpec(shape=(32, 32, 32, 6), dtype=tf.float64, name='data/0/0'), TensorSpec(shape=(32, 32, 32, 6), dtype=tf.float64, name='data/0/1'), TensorSpec(shape=(32, 32, 32, 6), dtype=tf.float64, name='data/0/2'), TensorSpec(shape=(32, 28), dtype=tf.float64, name='data/0/3')), TensorSpec(shape=(32, 32, 32, 2), dtype=tf.float64, name='data/1')), <tensorflow.python.framework.func_graph.UnknownArgument object at 0x148f1c520>), {}).\n"
     ]
    },
    {
     "name": "stdout",
     "output_type": "stream",
     "text": [
      "INFO:tensorflow:Unsupported signature for serialization: ((((TensorSpec(shape=(32, 32, 32, 6), dtype=tf.float64, name='data/0/0'), TensorSpec(shape=(32, 32, 32, 6), dtype=tf.float64, name='data/0/1'), TensorSpec(shape=(32, 32, 32, 6), dtype=tf.float64, name='data/0/2'), TensorSpec(shape=(32, 28), dtype=tf.float64, name='data/0/3')), TensorSpec(shape=(32, 32, 32, 2), dtype=tf.float64, name='data/1')), <tensorflow.python.framework.func_graph.UnknownArgument object at 0x148f1c520>), {}).\n"
     ]
    },
    {
     "name": "stderr",
     "output_type": "stream",
     "text": [
      " INFO - Unsupported signature for serialization: ((((TensorSpec(shape=(32, 32, 32, 6), dtype=tf.float64, name='data/0/0'), TensorSpec(shape=(32, 32, 32, 6), dtype=tf.float64, name='data/0/1'), TensorSpec(shape=(32, 32, 32, 6), dtype=tf.float64, name='data/0/2'), TensorSpec(shape=(32, 28), dtype=tf.float64, name='data/0/3')), TensorSpec(shape=(32, 32, 32, 2), dtype=tf.float64, name='data/1')), <tensorflow.python.framework.func_graph.UnknownArgument object at 0x148f1c520>), {}).\n",
      " WARNING - Found untraced functions such as test_step, conv2d_layer_call_fn, conv2d_layer_call_and_return_conditional_losses, _jit_compiled_convolution_op, conv2d_25_layer_call_fn while saving (showing 5 of 455). These functions will not be directly callable after loading.\n"
     ]
    },
    {
     "name": "stdout",
     "output_type": "stream",
     "text": [
      "INFO:tensorflow:Assets written to: model_logs/20230408-122535/assets\n"
     ]
    },
    {
     "name": "stderr",
     "output_type": "stream",
     "text": [
      " INFO - Assets written to: model_logs/20230408-122535/assets\n"
     ]
    },
    {
     "name": "stdout",
     "output_type": "stream",
     "text": [
      "Epoch: 11\t\n",
      "MSE_train: 0.00116, RMSE_test: 24.66799\n",
      "INFO:tensorflow:Unsupported signature for serialization: ((((TensorSpec(shape=(32, 32, 32, 6), dtype=tf.float64, name='data/0/0'), TensorSpec(shape=(32, 32, 32, 6), dtype=tf.float64, name='data/0/1'), TensorSpec(shape=(32, 32, 32, 6), dtype=tf.float64, name='data/0/2'), TensorSpec(shape=(32, 28), dtype=tf.float64, name='data/0/3')), TensorSpec(shape=(32, 32, 32, 2), dtype=tf.float64, name='data/1')), <tensorflow.python.framework.func_graph.UnknownArgument object at 0x148f1c520>), {}).\n"
     ]
    },
    {
     "name": "stderr",
     "output_type": "stream",
     "text": [
      " INFO - Unsupported signature for serialization: ((((TensorSpec(shape=(32, 32, 32, 6), dtype=tf.float64, name='data/0/0'), TensorSpec(shape=(32, 32, 32, 6), dtype=tf.float64, name='data/0/1'), TensorSpec(shape=(32, 32, 32, 6), dtype=tf.float64, name='data/0/2'), TensorSpec(shape=(32, 28), dtype=tf.float64, name='data/0/3')), TensorSpec(shape=(32, 32, 32, 2), dtype=tf.float64, name='data/1')), <tensorflow.python.framework.func_graph.UnknownArgument object at 0x148f1c520>), {}).\n"
     ]
    },
    {
     "name": "stdout",
     "output_type": "stream",
     "text": [
      "INFO:tensorflow:Unsupported signature for serialization: ((((TensorSpec(shape=(32, 32, 32, 6), dtype=tf.float64, name='data/0/0'), TensorSpec(shape=(32, 32, 32, 6), dtype=tf.float64, name='data/0/1'), TensorSpec(shape=(32, 32, 32, 6), dtype=tf.float64, name='data/0/2'), TensorSpec(shape=(32, 28), dtype=tf.float64, name='data/0/3')), TensorSpec(shape=(32, 32, 32, 2), dtype=tf.float64, name='data/1')), <tensorflow.python.framework.func_graph.UnknownArgument object at 0x148f1c520>), {}).\n"
     ]
    },
    {
     "name": "stderr",
     "output_type": "stream",
     "text": [
      " INFO - Unsupported signature for serialization: ((((TensorSpec(shape=(32, 32, 32, 6), dtype=tf.float64, name='data/0/0'), TensorSpec(shape=(32, 32, 32, 6), dtype=tf.float64, name='data/0/1'), TensorSpec(shape=(32, 32, 32, 6), dtype=tf.float64, name='data/0/2'), TensorSpec(shape=(32, 28), dtype=tf.float64, name='data/0/3')), TensorSpec(shape=(32, 32, 32, 2), dtype=tf.float64, name='data/1')), <tensorflow.python.framework.func_graph.UnknownArgument object at 0x148f1c520>), {}).\n",
      " WARNING - Found untraced functions such as test_step, conv2d_layer_call_fn, conv2d_layer_call_and_return_conditional_losses, _jit_compiled_convolution_op, conv2d_25_layer_call_fn while saving (showing 5 of 455). These functions will not be directly callable after loading.\n"
     ]
    },
    {
     "name": "stdout",
     "output_type": "stream",
     "text": [
      "INFO:tensorflow:Assets written to: model_logs/20230408-122535/assets\n"
     ]
    },
    {
     "name": "stderr",
     "output_type": "stream",
     "text": [
      " INFO - Assets written to: model_logs/20230408-122535/assets\n"
     ]
    },
    {
     "name": "stdout",
     "output_type": "stream",
     "text": [
      "Epoch: 12\t\n",
      "MSE_train: 0.00112, RMSE_test: 24.70558\n",
      "INFO:tensorflow:Unsupported signature for serialization: ((((TensorSpec(shape=(32, 32, 32, 6), dtype=tf.float64, name='data/0/0'), TensorSpec(shape=(32, 32, 32, 6), dtype=tf.float64, name='data/0/1'), TensorSpec(shape=(32, 32, 32, 6), dtype=tf.float64, name='data/0/2'), TensorSpec(shape=(32, 28), dtype=tf.float64, name='data/0/3')), TensorSpec(shape=(32, 32, 32, 2), dtype=tf.float64, name='data/1')), <tensorflow.python.framework.func_graph.UnknownArgument object at 0x148f1c520>), {}).\n"
     ]
    },
    {
     "name": "stderr",
     "output_type": "stream",
     "text": [
      " INFO - Unsupported signature for serialization: ((((TensorSpec(shape=(32, 32, 32, 6), dtype=tf.float64, name='data/0/0'), TensorSpec(shape=(32, 32, 32, 6), dtype=tf.float64, name='data/0/1'), TensorSpec(shape=(32, 32, 32, 6), dtype=tf.float64, name='data/0/2'), TensorSpec(shape=(32, 28), dtype=tf.float64, name='data/0/3')), TensorSpec(shape=(32, 32, 32, 2), dtype=tf.float64, name='data/1')), <tensorflow.python.framework.func_graph.UnknownArgument object at 0x148f1c520>), {}).\n"
     ]
    },
    {
     "name": "stdout",
     "output_type": "stream",
     "text": [
      "INFO:tensorflow:Unsupported signature for serialization: ((((TensorSpec(shape=(32, 32, 32, 6), dtype=tf.float64, name='data/0/0'), TensorSpec(shape=(32, 32, 32, 6), dtype=tf.float64, name='data/0/1'), TensorSpec(shape=(32, 32, 32, 6), dtype=tf.float64, name='data/0/2'), TensorSpec(shape=(32, 28), dtype=tf.float64, name='data/0/3')), TensorSpec(shape=(32, 32, 32, 2), dtype=tf.float64, name='data/1')), <tensorflow.python.framework.func_graph.UnknownArgument object at 0x148f1c520>), {}).\n"
     ]
    },
    {
     "name": "stderr",
     "output_type": "stream",
     "text": [
      " INFO - Unsupported signature for serialization: ((((TensorSpec(shape=(32, 32, 32, 6), dtype=tf.float64, name='data/0/0'), TensorSpec(shape=(32, 32, 32, 6), dtype=tf.float64, name='data/0/1'), TensorSpec(shape=(32, 32, 32, 6), dtype=tf.float64, name='data/0/2'), TensorSpec(shape=(32, 28), dtype=tf.float64, name='data/0/3')), TensorSpec(shape=(32, 32, 32, 2), dtype=tf.float64, name='data/1')), <tensorflow.python.framework.func_graph.UnknownArgument object at 0x148f1c520>), {}).\n",
      " WARNING - Found untraced functions such as test_step, conv2d_layer_call_fn, conv2d_layer_call_and_return_conditional_losses, _jit_compiled_convolution_op, conv2d_25_layer_call_fn while saving (showing 5 of 455). These functions will not be directly callable after loading.\n"
     ]
    },
    {
     "name": "stdout",
     "output_type": "stream",
     "text": [
      "INFO:tensorflow:Assets written to: model_logs/20230408-122535/assets\n"
     ]
    },
    {
     "name": "stderr",
     "output_type": "stream",
     "text": [
      " INFO - Assets written to: model_logs/20230408-122535/assets\n"
     ]
    },
    {
     "name": "stdout",
     "output_type": "stream",
     "text": [
      "Epoch: 13\t\n",
      "MSE_train: 0.00109, RMSE_test: 23.91130\n",
      "INFO:tensorflow:Unsupported signature for serialization: ((((TensorSpec(shape=(32, 32, 32, 6), dtype=tf.float64, name='data/0/0'), TensorSpec(shape=(32, 32, 32, 6), dtype=tf.float64, name='data/0/1'), TensorSpec(shape=(32, 32, 32, 6), dtype=tf.float64, name='data/0/2'), TensorSpec(shape=(32, 28), dtype=tf.float64, name='data/0/3')), TensorSpec(shape=(32, 32, 32, 2), dtype=tf.float64, name='data/1')), <tensorflow.python.framework.func_graph.UnknownArgument object at 0x148f1c520>), {}).\n"
     ]
    },
    {
     "name": "stderr",
     "output_type": "stream",
     "text": [
      " INFO - Unsupported signature for serialization: ((((TensorSpec(shape=(32, 32, 32, 6), dtype=tf.float64, name='data/0/0'), TensorSpec(shape=(32, 32, 32, 6), dtype=tf.float64, name='data/0/1'), TensorSpec(shape=(32, 32, 32, 6), dtype=tf.float64, name='data/0/2'), TensorSpec(shape=(32, 28), dtype=tf.float64, name='data/0/3')), TensorSpec(shape=(32, 32, 32, 2), dtype=tf.float64, name='data/1')), <tensorflow.python.framework.func_graph.UnknownArgument object at 0x148f1c520>), {}).\n"
     ]
    },
    {
     "name": "stdout",
     "output_type": "stream",
     "text": [
      "INFO:tensorflow:Unsupported signature for serialization: ((((TensorSpec(shape=(32, 32, 32, 6), dtype=tf.float64, name='data/0/0'), TensorSpec(shape=(32, 32, 32, 6), dtype=tf.float64, name='data/0/1'), TensorSpec(shape=(32, 32, 32, 6), dtype=tf.float64, name='data/0/2'), TensorSpec(shape=(32, 28), dtype=tf.float64, name='data/0/3')), TensorSpec(shape=(32, 32, 32, 2), dtype=tf.float64, name='data/1')), <tensorflow.python.framework.func_graph.UnknownArgument object at 0x148f1c520>), {}).\n"
     ]
    },
    {
     "name": "stderr",
     "output_type": "stream",
     "text": [
      " INFO - Unsupported signature for serialization: ((((TensorSpec(shape=(32, 32, 32, 6), dtype=tf.float64, name='data/0/0'), TensorSpec(shape=(32, 32, 32, 6), dtype=tf.float64, name='data/0/1'), TensorSpec(shape=(32, 32, 32, 6), dtype=tf.float64, name='data/0/2'), TensorSpec(shape=(32, 28), dtype=tf.float64, name='data/0/3')), TensorSpec(shape=(32, 32, 32, 2), dtype=tf.float64, name='data/1')), <tensorflow.python.framework.func_graph.UnknownArgument object at 0x148f1c520>), {}).\n",
      " WARNING - Found untraced functions such as test_step, conv2d_layer_call_fn, conv2d_layer_call_and_return_conditional_losses, _jit_compiled_convolution_op, conv2d_25_layer_call_fn while saving (showing 5 of 455). These functions will not be directly callable after loading.\n"
     ]
    },
    {
     "name": "stdout",
     "output_type": "stream",
     "text": [
      "INFO:tensorflow:Assets written to: model_logs/20230408-122535/assets\n"
     ]
    },
    {
     "name": "stderr",
     "output_type": "stream",
     "text": [
      " INFO - Assets written to: model_logs/20230408-122535/assets\n"
     ]
    },
    {
     "name": "stdout",
     "output_type": "stream",
     "text": [
      "Epoch: 14\t\n",
      "MSE_train: 0.00106, RMSE_test: 24.21766\n",
      "INFO:tensorflow:Unsupported signature for serialization: ((((TensorSpec(shape=(32, 32, 32, 6), dtype=tf.float64, name='data/0/0'), TensorSpec(shape=(32, 32, 32, 6), dtype=tf.float64, name='data/0/1'), TensorSpec(shape=(32, 32, 32, 6), dtype=tf.float64, name='data/0/2'), TensorSpec(shape=(32, 28), dtype=tf.float64, name='data/0/3')), TensorSpec(shape=(32, 32, 32, 2), dtype=tf.float64, name='data/1')), <tensorflow.python.framework.func_graph.UnknownArgument object at 0x148f1c520>), {}).\n"
     ]
    },
    {
     "name": "stderr",
     "output_type": "stream",
     "text": [
      " INFO - Unsupported signature for serialization: ((((TensorSpec(shape=(32, 32, 32, 6), dtype=tf.float64, name='data/0/0'), TensorSpec(shape=(32, 32, 32, 6), dtype=tf.float64, name='data/0/1'), TensorSpec(shape=(32, 32, 32, 6), dtype=tf.float64, name='data/0/2'), TensorSpec(shape=(32, 28), dtype=tf.float64, name='data/0/3')), TensorSpec(shape=(32, 32, 32, 2), dtype=tf.float64, name='data/1')), <tensorflow.python.framework.func_graph.UnknownArgument object at 0x148f1c520>), {}).\n"
     ]
    },
    {
     "name": "stdout",
     "output_type": "stream",
     "text": [
      "INFO:tensorflow:Unsupported signature for serialization: ((((TensorSpec(shape=(32, 32, 32, 6), dtype=tf.float64, name='data/0/0'), TensorSpec(shape=(32, 32, 32, 6), dtype=tf.float64, name='data/0/1'), TensorSpec(shape=(32, 32, 32, 6), dtype=tf.float64, name='data/0/2'), TensorSpec(shape=(32, 28), dtype=tf.float64, name='data/0/3')), TensorSpec(shape=(32, 32, 32, 2), dtype=tf.float64, name='data/1')), <tensorflow.python.framework.func_graph.UnknownArgument object at 0x148f1c520>), {}).\n"
     ]
    },
    {
     "name": "stderr",
     "output_type": "stream",
     "text": [
      " INFO - Unsupported signature for serialization: ((((TensorSpec(shape=(32, 32, 32, 6), dtype=tf.float64, name='data/0/0'), TensorSpec(shape=(32, 32, 32, 6), dtype=tf.float64, name='data/0/1'), TensorSpec(shape=(32, 32, 32, 6), dtype=tf.float64, name='data/0/2'), TensorSpec(shape=(32, 28), dtype=tf.float64, name='data/0/3')), TensorSpec(shape=(32, 32, 32, 2), dtype=tf.float64, name='data/1')), <tensorflow.python.framework.func_graph.UnknownArgument object at 0x148f1c520>), {}).\n",
      " WARNING - Found untraced functions such as test_step, conv2d_layer_call_fn, conv2d_layer_call_and_return_conditional_losses, _jit_compiled_convolution_op, conv2d_25_layer_call_fn while saving (showing 5 of 455). These functions will not be directly callable after loading.\n"
     ]
    },
    {
     "name": "stdout",
     "output_type": "stream",
     "text": [
      "INFO:tensorflow:Assets written to: model_logs/20230408-122535/assets\n"
     ]
    },
    {
     "name": "stderr",
     "output_type": "stream",
     "text": [
      " INFO - Assets written to: model_logs/20230408-122535/assets\n"
     ]
    },
    {
     "name": "stdout",
     "output_type": "stream",
     "text": [
      "Epoch: 15\t\n",
      "MSE_train: 0.00104, RMSE_test: 23.92117\n",
      "INFO:tensorflow:Unsupported signature for serialization: ((((TensorSpec(shape=(32, 32, 32, 6), dtype=tf.float64, name='data/0/0'), TensorSpec(shape=(32, 32, 32, 6), dtype=tf.float64, name='data/0/1'), TensorSpec(shape=(32, 32, 32, 6), dtype=tf.float64, name='data/0/2'), TensorSpec(shape=(32, 28), dtype=tf.float64, name='data/0/3')), TensorSpec(shape=(32, 32, 32, 2), dtype=tf.float64, name='data/1')), <tensorflow.python.framework.func_graph.UnknownArgument object at 0x148f1c520>), {}).\n"
     ]
    },
    {
     "name": "stderr",
     "output_type": "stream",
     "text": [
      " INFO - Unsupported signature for serialization: ((((TensorSpec(shape=(32, 32, 32, 6), dtype=tf.float64, name='data/0/0'), TensorSpec(shape=(32, 32, 32, 6), dtype=tf.float64, name='data/0/1'), TensorSpec(shape=(32, 32, 32, 6), dtype=tf.float64, name='data/0/2'), TensorSpec(shape=(32, 28), dtype=tf.float64, name='data/0/3')), TensorSpec(shape=(32, 32, 32, 2), dtype=tf.float64, name='data/1')), <tensorflow.python.framework.func_graph.UnknownArgument object at 0x148f1c520>), {}).\n"
     ]
    },
    {
     "name": "stdout",
     "output_type": "stream",
     "text": [
      "INFO:tensorflow:Unsupported signature for serialization: ((((TensorSpec(shape=(32, 32, 32, 6), dtype=tf.float64, name='data/0/0'), TensorSpec(shape=(32, 32, 32, 6), dtype=tf.float64, name='data/0/1'), TensorSpec(shape=(32, 32, 32, 6), dtype=tf.float64, name='data/0/2'), TensorSpec(shape=(32, 28), dtype=tf.float64, name='data/0/3')), TensorSpec(shape=(32, 32, 32, 2), dtype=tf.float64, name='data/1')), <tensorflow.python.framework.func_graph.UnknownArgument object at 0x148f1c520>), {}).\n"
     ]
    },
    {
     "name": "stderr",
     "output_type": "stream",
     "text": [
      " INFO - Unsupported signature for serialization: ((((TensorSpec(shape=(32, 32, 32, 6), dtype=tf.float64, name='data/0/0'), TensorSpec(shape=(32, 32, 32, 6), dtype=tf.float64, name='data/0/1'), TensorSpec(shape=(32, 32, 32, 6), dtype=tf.float64, name='data/0/2'), TensorSpec(shape=(32, 28), dtype=tf.float64, name='data/0/3')), TensorSpec(shape=(32, 32, 32, 2), dtype=tf.float64, name='data/1')), <tensorflow.python.framework.func_graph.UnknownArgument object at 0x148f1c520>), {}).\n",
      " WARNING - Found untraced functions such as test_step, conv2d_layer_call_fn, conv2d_layer_call_and_return_conditional_losses, _jit_compiled_convolution_op, conv2d_25_layer_call_fn while saving (showing 5 of 455). These functions will not be directly callable after loading.\n"
     ]
    },
    {
     "name": "stdout",
     "output_type": "stream",
     "text": [
      "INFO:tensorflow:Assets written to: model_logs/20230408-122535/assets\n"
     ]
    },
    {
     "name": "stderr",
     "output_type": "stream",
     "text": [
      " INFO - Assets written to: model_logs/20230408-122535/assets\n"
     ]
    },
    {
     "name": "stdout",
     "output_type": "stream",
     "text": [
      "Epoch: 16\t\n",
      "MSE_train: 0.00105, RMSE_test: 23.46753\n",
      "INFO:tensorflow:Unsupported signature for serialization: ((((TensorSpec(shape=(32, 32, 32, 6), dtype=tf.float64, name='data/0/0'), TensorSpec(shape=(32, 32, 32, 6), dtype=tf.float64, name='data/0/1'), TensorSpec(shape=(32, 32, 32, 6), dtype=tf.float64, name='data/0/2'), TensorSpec(shape=(32, 28), dtype=tf.float64, name='data/0/3')), TensorSpec(shape=(32, 32, 32, 2), dtype=tf.float64, name='data/1')), <tensorflow.python.framework.func_graph.UnknownArgument object at 0x148f1c520>), {}).\n"
     ]
    },
    {
     "name": "stderr",
     "output_type": "stream",
     "text": [
      " INFO - Unsupported signature for serialization: ((((TensorSpec(shape=(32, 32, 32, 6), dtype=tf.float64, name='data/0/0'), TensorSpec(shape=(32, 32, 32, 6), dtype=tf.float64, name='data/0/1'), TensorSpec(shape=(32, 32, 32, 6), dtype=tf.float64, name='data/0/2'), TensorSpec(shape=(32, 28), dtype=tf.float64, name='data/0/3')), TensorSpec(shape=(32, 32, 32, 2), dtype=tf.float64, name='data/1')), <tensorflow.python.framework.func_graph.UnknownArgument object at 0x148f1c520>), {}).\n"
     ]
    },
    {
     "name": "stdout",
     "output_type": "stream",
     "text": [
      "INFO:tensorflow:Unsupported signature for serialization: ((((TensorSpec(shape=(32, 32, 32, 6), dtype=tf.float64, name='data/0/0'), TensorSpec(shape=(32, 32, 32, 6), dtype=tf.float64, name='data/0/1'), TensorSpec(shape=(32, 32, 32, 6), dtype=tf.float64, name='data/0/2'), TensorSpec(shape=(32, 28), dtype=tf.float64, name='data/0/3')), TensorSpec(shape=(32, 32, 32, 2), dtype=tf.float64, name='data/1')), <tensorflow.python.framework.func_graph.UnknownArgument object at 0x148f1c520>), {}).\n"
     ]
    },
    {
     "name": "stderr",
     "output_type": "stream",
     "text": [
      " INFO - Unsupported signature for serialization: ((((TensorSpec(shape=(32, 32, 32, 6), dtype=tf.float64, name='data/0/0'), TensorSpec(shape=(32, 32, 32, 6), dtype=tf.float64, name='data/0/1'), TensorSpec(shape=(32, 32, 32, 6), dtype=tf.float64, name='data/0/2'), TensorSpec(shape=(32, 28), dtype=tf.float64, name='data/0/3')), TensorSpec(shape=(32, 32, 32, 2), dtype=tf.float64, name='data/1')), <tensorflow.python.framework.func_graph.UnknownArgument object at 0x148f1c520>), {}).\n",
      " WARNING - Found untraced functions such as test_step, conv2d_layer_call_fn, conv2d_layer_call_and_return_conditional_losses, _jit_compiled_convolution_op, conv2d_25_layer_call_fn while saving (showing 5 of 455). These functions will not be directly callable after loading.\n"
     ]
    },
    {
     "name": "stdout",
     "output_type": "stream",
     "text": [
      "INFO:tensorflow:Assets written to: model_logs/20230408-122535/assets\n"
     ]
    },
    {
     "name": "stderr",
     "output_type": "stream",
     "text": [
      " INFO - Assets written to: model_logs/20230408-122535/assets\n"
     ]
    },
    {
     "name": "stdout",
     "output_type": "stream",
     "text": [
      "Epoch: 17\t\n",
      "MSE_train: 0.00101, RMSE_test: 22.98141\n",
      "INFO:tensorflow:Unsupported signature for serialization: ((((TensorSpec(shape=(32, 32, 32, 6), dtype=tf.float64, name='data/0/0'), TensorSpec(shape=(32, 32, 32, 6), dtype=tf.float64, name='data/0/1'), TensorSpec(shape=(32, 32, 32, 6), dtype=tf.float64, name='data/0/2'), TensorSpec(shape=(32, 28), dtype=tf.float64, name='data/0/3')), TensorSpec(shape=(32, 32, 32, 2), dtype=tf.float64, name='data/1')), <tensorflow.python.framework.func_graph.UnknownArgument object at 0x148f1c520>), {}).\n"
     ]
    },
    {
     "name": "stderr",
     "output_type": "stream",
     "text": [
      " INFO - Unsupported signature for serialization: ((((TensorSpec(shape=(32, 32, 32, 6), dtype=tf.float64, name='data/0/0'), TensorSpec(shape=(32, 32, 32, 6), dtype=tf.float64, name='data/0/1'), TensorSpec(shape=(32, 32, 32, 6), dtype=tf.float64, name='data/0/2'), TensorSpec(shape=(32, 28), dtype=tf.float64, name='data/0/3')), TensorSpec(shape=(32, 32, 32, 2), dtype=tf.float64, name='data/1')), <tensorflow.python.framework.func_graph.UnknownArgument object at 0x148f1c520>), {}).\n"
     ]
    },
    {
     "name": "stdout",
     "output_type": "stream",
     "text": [
      "INFO:tensorflow:Unsupported signature for serialization: ((((TensorSpec(shape=(32, 32, 32, 6), dtype=tf.float64, name='data/0/0'), TensorSpec(shape=(32, 32, 32, 6), dtype=tf.float64, name='data/0/1'), TensorSpec(shape=(32, 32, 32, 6), dtype=tf.float64, name='data/0/2'), TensorSpec(shape=(32, 28), dtype=tf.float64, name='data/0/3')), TensorSpec(shape=(32, 32, 32, 2), dtype=tf.float64, name='data/1')), <tensorflow.python.framework.func_graph.UnknownArgument object at 0x148f1c520>), {}).\n"
     ]
    },
    {
     "name": "stderr",
     "output_type": "stream",
     "text": [
      " INFO - Unsupported signature for serialization: ((((TensorSpec(shape=(32, 32, 32, 6), dtype=tf.float64, name='data/0/0'), TensorSpec(shape=(32, 32, 32, 6), dtype=tf.float64, name='data/0/1'), TensorSpec(shape=(32, 32, 32, 6), dtype=tf.float64, name='data/0/2'), TensorSpec(shape=(32, 28), dtype=tf.float64, name='data/0/3')), TensorSpec(shape=(32, 32, 32, 2), dtype=tf.float64, name='data/1')), <tensorflow.python.framework.func_graph.UnknownArgument object at 0x148f1c520>), {}).\n",
      " WARNING - Found untraced functions such as test_step, conv2d_layer_call_fn, conv2d_layer_call_and_return_conditional_losses, _jit_compiled_convolution_op, conv2d_25_layer_call_fn while saving (showing 5 of 455). These functions will not be directly callable after loading.\n"
     ]
    },
    {
     "name": "stdout",
     "output_type": "stream",
     "text": [
      "INFO:tensorflow:Assets written to: model_logs/20230408-122535/assets\n"
     ]
    },
    {
     "name": "stderr",
     "output_type": "stream",
     "text": [
      " INFO - Assets written to: model_logs/20230408-122535/assets\n"
     ]
    },
    {
     "name": "stdout",
     "output_type": "stream",
     "text": [
      "Epoch: 18\t\n",
      "MSE_train: 0.00101, RMSE_test: 22.71608\n",
      "INFO:tensorflow:Unsupported signature for serialization: ((((TensorSpec(shape=(32, 32, 32, 6), dtype=tf.float64, name='data/0/0'), TensorSpec(shape=(32, 32, 32, 6), dtype=tf.float64, name='data/0/1'), TensorSpec(shape=(32, 32, 32, 6), dtype=tf.float64, name='data/0/2'), TensorSpec(shape=(32, 28), dtype=tf.float64, name='data/0/3')), TensorSpec(shape=(32, 32, 32, 2), dtype=tf.float64, name='data/1')), <tensorflow.python.framework.func_graph.UnknownArgument object at 0x148f1c520>), {}).\n"
     ]
    },
    {
     "name": "stderr",
     "output_type": "stream",
     "text": [
      " INFO - Unsupported signature for serialization: ((((TensorSpec(shape=(32, 32, 32, 6), dtype=tf.float64, name='data/0/0'), TensorSpec(shape=(32, 32, 32, 6), dtype=tf.float64, name='data/0/1'), TensorSpec(shape=(32, 32, 32, 6), dtype=tf.float64, name='data/0/2'), TensorSpec(shape=(32, 28), dtype=tf.float64, name='data/0/3')), TensorSpec(shape=(32, 32, 32, 2), dtype=tf.float64, name='data/1')), <tensorflow.python.framework.func_graph.UnknownArgument object at 0x148f1c520>), {}).\n"
     ]
    },
    {
     "name": "stdout",
     "output_type": "stream",
     "text": [
      "INFO:tensorflow:Unsupported signature for serialization: ((((TensorSpec(shape=(32, 32, 32, 6), dtype=tf.float64, name='data/0/0'), TensorSpec(shape=(32, 32, 32, 6), dtype=tf.float64, name='data/0/1'), TensorSpec(shape=(32, 32, 32, 6), dtype=tf.float64, name='data/0/2'), TensorSpec(shape=(32, 28), dtype=tf.float64, name='data/0/3')), TensorSpec(shape=(32, 32, 32, 2), dtype=tf.float64, name='data/1')), <tensorflow.python.framework.func_graph.UnknownArgument object at 0x148f1c520>), {}).\n"
     ]
    },
    {
     "name": "stderr",
     "output_type": "stream",
     "text": [
      " INFO - Unsupported signature for serialization: ((((TensorSpec(shape=(32, 32, 32, 6), dtype=tf.float64, name='data/0/0'), TensorSpec(shape=(32, 32, 32, 6), dtype=tf.float64, name='data/0/1'), TensorSpec(shape=(32, 32, 32, 6), dtype=tf.float64, name='data/0/2'), TensorSpec(shape=(32, 28), dtype=tf.float64, name='data/0/3')), TensorSpec(shape=(32, 32, 32, 2), dtype=tf.float64, name='data/1')), <tensorflow.python.framework.func_graph.UnknownArgument object at 0x148f1c520>), {}).\n",
      " WARNING - Found untraced functions such as test_step, conv2d_layer_call_fn, conv2d_layer_call_and_return_conditional_losses, _jit_compiled_convolution_op, conv2d_25_layer_call_fn while saving (showing 5 of 455). These functions will not be directly callable after loading.\n"
     ]
    },
    {
     "name": "stdout",
     "output_type": "stream",
     "text": [
      "INFO:tensorflow:Assets written to: model_logs/20230408-122535/assets\n"
     ]
    },
    {
     "name": "stderr",
     "output_type": "stream",
     "text": [
      " INFO - Assets written to: model_logs/20230408-122535/assets\n"
     ]
    },
    {
     "name": "stdout",
     "output_type": "stream",
     "text": [
      "Epoch: 19\t\n",
      "MSE_train: 0.00103, RMSE_test: 23.57025\n",
      "INFO:tensorflow:Unsupported signature for serialization: ((((TensorSpec(shape=(32, 32, 32, 6), dtype=tf.float64, name='data/0/0'), TensorSpec(shape=(32, 32, 32, 6), dtype=tf.float64, name='data/0/1'), TensorSpec(shape=(32, 32, 32, 6), dtype=tf.float64, name='data/0/2'), TensorSpec(shape=(32, 28), dtype=tf.float64, name='data/0/3')), TensorSpec(shape=(32, 32, 32, 2), dtype=tf.float64, name='data/1')), <tensorflow.python.framework.func_graph.UnknownArgument object at 0x148f1c520>), {}).\n"
     ]
    },
    {
     "name": "stderr",
     "output_type": "stream",
     "text": [
      " INFO - Unsupported signature for serialization: ((((TensorSpec(shape=(32, 32, 32, 6), dtype=tf.float64, name='data/0/0'), TensorSpec(shape=(32, 32, 32, 6), dtype=tf.float64, name='data/0/1'), TensorSpec(shape=(32, 32, 32, 6), dtype=tf.float64, name='data/0/2'), TensorSpec(shape=(32, 28), dtype=tf.float64, name='data/0/3')), TensorSpec(shape=(32, 32, 32, 2), dtype=tf.float64, name='data/1')), <tensorflow.python.framework.func_graph.UnknownArgument object at 0x148f1c520>), {}).\n"
     ]
    },
    {
     "name": "stdout",
     "output_type": "stream",
     "text": [
      "INFO:tensorflow:Unsupported signature for serialization: ((((TensorSpec(shape=(32, 32, 32, 6), dtype=tf.float64, name='data/0/0'), TensorSpec(shape=(32, 32, 32, 6), dtype=tf.float64, name='data/0/1'), TensorSpec(shape=(32, 32, 32, 6), dtype=tf.float64, name='data/0/2'), TensorSpec(shape=(32, 28), dtype=tf.float64, name='data/0/3')), TensorSpec(shape=(32, 32, 32, 2), dtype=tf.float64, name='data/1')), <tensorflow.python.framework.func_graph.UnknownArgument object at 0x148f1c520>), {}).\n"
     ]
    },
    {
     "name": "stderr",
     "output_type": "stream",
     "text": [
      " INFO - Unsupported signature for serialization: ((((TensorSpec(shape=(32, 32, 32, 6), dtype=tf.float64, name='data/0/0'), TensorSpec(shape=(32, 32, 32, 6), dtype=tf.float64, name='data/0/1'), TensorSpec(shape=(32, 32, 32, 6), dtype=tf.float64, name='data/0/2'), TensorSpec(shape=(32, 28), dtype=tf.float64, name='data/0/3')), TensorSpec(shape=(32, 32, 32, 2), dtype=tf.float64, name='data/1')), <tensorflow.python.framework.func_graph.UnknownArgument object at 0x148f1c520>), {}).\n",
      " WARNING - Found untraced functions such as test_step, conv2d_layer_call_fn, conv2d_layer_call_and_return_conditional_losses, _jit_compiled_convolution_op, conv2d_25_layer_call_fn while saving (showing 5 of 455). These functions will not be directly callable after loading.\n"
     ]
    },
    {
     "name": "stdout",
     "output_type": "stream",
     "text": [
      "INFO:tensorflow:Assets written to: model_logs/20230408-122535/assets\n"
     ]
    },
    {
     "name": "stderr",
     "output_type": "stream",
     "text": [
      " INFO - Assets written to: model_logs/20230408-122535/assets\n"
     ]
    },
    {
     "name": "stdout",
     "output_type": "stream",
     "text": [
      "Epoch: 20\t\n",
      "MSE_train: 0.00098, RMSE_test: 22.70678\n",
      "INFO:tensorflow:Unsupported signature for serialization: ((((TensorSpec(shape=(32, 32, 32, 6), dtype=tf.float64, name='data/0/0'), TensorSpec(shape=(32, 32, 32, 6), dtype=tf.float64, name='data/0/1'), TensorSpec(shape=(32, 32, 32, 6), dtype=tf.float64, name='data/0/2'), TensorSpec(shape=(32, 28), dtype=tf.float64, name='data/0/3')), TensorSpec(shape=(32, 32, 32, 2), dtype=tf.float64, name='data/1')), <tensorflow.python.framework.func_graph.UnknownArgument object at 0x148f1c520>), {}).\n"
     ]
    },
    {
     "name": "stderr",
     "output_type": "stream",
     "text": [
      " INFO - Unsupported signature for serialization: ((((TensorSpec(shape=(32, 32, 32, 6), dtype=tf.float64, name='data/0/0'), TensorSpec(shape=(32, 32, 32, 6), dtype=tf.float64, name='data/0/1'), TensorSpec(shape=(32, 32, 32, 6), dtype=tf.float64, name='data/0/2'), TensorSpec(shape=(32, 28), dtype=tf.float64, name='data/0/3')), TensorSpec(shape=(32, 32, 32, 2), dtype=tf.float64, name='data/1')), <tensorflow.python.framework.func_graph.UnknownArgument object at 0x148f1c520>), {}).\n"
     ]
    },
    {
     "name": "stdout",
     "output_type": "stream",
     "text": [
      "INFO:tensorflow:Unsupported signature for serialization: ((((TensorSpec(shape=(32, 32, 32, 6), dtype=tf.float64, name='data/0/0'), TensorSpec(shape=(32, 32, 32, 6), dtype=tf.float64, name='data/0/1'), TensorSpec(shape=(32, 32, 32, 6), dtype=tf.float64, name='data/0/2'), TensorSpec(shape=(32, 28), dtype=tf.float64, name='data/0/3')), TensorSpec(shape=(32, 32, 32, 2), dtype=tf.float64, name='data/1')), <tensorflow.python.framework.func_graph.UnknownArgument object at 0x148f1c520>), {}).\n"
     ]
    },
    {
     "name": "stderr",
     "output_type": "stream",
     "text": [
      " INFO - Unsupported signature for serialization: ((((TensorSpec(shape=(32, 32, 32, 6), dtype=tf.float64, name='data/0/0'), TensorSpec(shape=(32, 32, 32, 6), dtype=tf.float64, name='data/0/1'), TensorSpec(shape=(32, 32, 32, 6), dtype=tf.float64, name='data/0/2'), TensorSpec(shape=(32, 28), dtype=tf.float64, name='data/0/3')), TensorSpec(shape=(32, 32, 32, 2), dtype=tf.float64, name='data/1')), <tensorflow.python.framework.func_graph.UnknownArgument object at 0x148f1c520>), {}).\n",
      " WARNING - Found untraced functions such as test_step, conv2d_layer_call_fn, conv2d_layer_call_and_return_conditional_losses, _jit_compiled_convolution_op, conv2d_25_layer_call_fn while saving (showing 5 of 455). These functions will not be directly callable after loading.\n"
     ]
    },
    {
     "name": "stdout",
     "output_type": "stream",
     "text": [
      "INFO:tensorflow:Assets written to: model_logs/20230408-122535/assets\n"
     ]
    },
    {
     "name": "stderr",
     "output_type": "stream",
     "text": [
      " INFO - Assets written to: model_logs/20230408-122535/assets\n"
     ]
    },
    {
     "name": "stdout",
     "output_type": "stream",
     "text": [
      "Epoch: 21\t\n",
      "MSE_train: 0.00094, RMSE_test: 22.66319\n",
      "INFO:tensorflow:Unsupported signature for serialization: ((((TensorSpec(shape=(32, 32, 32, 6), dtype=tf.float64, name='data/0/0'), TensorSpec(shape=(32, 32, 32, 6), dtype=tf.float64, name='data/0/1'), TensorSpec(shape=(32, 32, 32, 6), dtype=tf.float64, name='data/0/2'), TensorSpec(shape=(32, 28), dtype=tf.float64, name='data/0/3')), TensorSpec(shape=(32, 32, 32, 2), dtype=tf.float64, name='data/1')), <tensorflow.python.framework.func_graph.UnknownArgument object at 0x148f1c520>), {}).\n"
     ]
    },
    {
     "name": "stderr",
     "output_type": "stream",
     "text": [
      " INFO - Unsupported signature for serialization: ((((TensorSpec(shape=(32, 32, 32, 6), dtype=tf.float64, name='data/0/0'), TensorSpec(shape=(32, 32, 32, 6), dtype=tf.float64, name='data/0/1'), TensorSpec(shape=(32, 32, 32, 6), dtype=tf.float64, name='data/0/2'), TensorSpec(shape=(32, 28), dtype=tf.float64, name='data/0/3')), TensorSpec(shape=(32, 32, 32, 2), dtype=tf.float64, name='data/1')), <tensorflow.python.framework.func_graph.UnknownArgument object at 0x148f1c520>), {}).\n"
     ]
    },
    {
     "name": "stdout",
     "output_type": "stream",
     "text": [
      "INFO:tensorflow:Unsupported signature for serialization: ((((TensorSpec(shape=(32, 32, 32, 6), dtype=tf.float64, name='data/0/0'), TensorSpec(shape=(32, 32, 32, 6), dtype=tf.float64, name='data/0/1'), TensorSpec(shape=(32, 32, 32, 6), dtype=tf.float64, name='data/0/2'), TensorSpec(shape=(32, 28), dtype=tf.float64, name='data/0/3')), TensorSpec(shape=(32, 32, 32, 2), dtype=tf.float64, name='data/1')), <tensorflow.python.framework.func_graph.UnknownArgument object at 0x148f1c520>), {}).\n"
     ]
    },
    {
     "name": "stderr",
     "output_type": "stream",
     "text": [
      " INFO - Unsupported signature for serialization: ((((TensorSpec(shape=(32, 32, 32, 6), dtype=tf.float64, name='data/0/0'), TensorSpec(shape=(32, 32, 32, 6), dtype=tf.float64, name='data/0/1'), TensorSpec(shape=(32, 32, 32, 6), dtype=tf.float64, name='data/0/2'), TensorSpec(shape=(32, 28), dtype=tf.float64, name='data/0/3')), TensorSpec(shape=(32, 32, 32, 2), dtype=tf.float64, name='data/1')), <tensorflow.python.framework.func_graph.UnknownArgument object at 0x148f1c520>), {}).\n",
      " WARNING - Found untraced functions such as test_step, conv2d_layer_call_fn, conv2d_layer_call_and_return_conditional_losses, _jit_compiled_convolution_op, conv2d_25_layer_call_fn while saving (showing 5 of 455). These functions will not be directly callable after loading.\n"
     ]
    },
    {
     "name": "stdout",
     "output_type": "stream",
     "text": [
      "INFO:tensorflow:Assets written to: model_logs/20230408-122535/assets\n"
     ]
    },
    {
     "name": "stderr",
     "output_type": "stream",
     "text": [
      " INFO - Assets written to: model_logs/20230408-122535/assets\n"
     ]
    },
    {
     "name": "stdout",
     "output_type": "stream",
     "text": [
      "Epoch: 22\t\n",
      "MSE_train: 0.00093, RMSE_test: 22.23293\n",
      "INFO:tensorflow:Unsupported signature for serialization: ((((TensorSpec(shape=(32, 32, 32, 6), dtype=tf.float64, name='data/0/0'), TensorSpec(shape=(32, 32, 32, 6), dtype=tf.float64, name='data/0/1'), TensorSpec(shape=(32, 32, 32, 6), dtype=tf.float64, name='data/0/2'), TensorSpec(shape=(32, 28), dtype=tf.float64, name='data/0/3')), TensorSpec(shape=(32, 32, 32, 2), dtype=tf.float64, name='data/1')), <tensorflow.python.framework.func_graph.UnknownArgument object at 0x148f1c520>), {}).\n"
     ]
    },
    {
     "name": "stderr",
     "output_type": "stream",
     "text": [
      " INFO - Unsupported signature for serialization: ((((TensorSpec(shape=(32, 32, 32, 6), dtype=tf.float64, name='data/0/0'), TensorSpec(shape=(32, 32, 32, 6), dtype=tf.float64, name='data/0/1'), TensorSpec(shape=(32, 32, 32, 6), dtype=tf.float64, name='data/0/2'), TensorSpec(shape=(32, 28), dtype=tf.float64, name='data/0/3')), TensorSpec(shape=(32, 32, 32, 2), dtype=tf.float64, name='data/1')), <tensorflow.python.framework.func_graph.UnknownArgument object at 0x148f1c520>), {}).\n"
     ]
    },
    {
     "name": "stdout",
     "output_type": "stream",
     "text": [
      "INFO:tensorflow:Unsupported signature for serialization: ((((TensorSpec(shape=(32, 32, 32, 6), dtype=tf.float64, name='data/0/0'), TensorSpec(shape=(32, 32, 32, 6), dtype=tf.float64, name='data/0/1'), TensorSpec(shape=(32, 32, 32, 6), dtype=tf.float64, name='data/0/2'), TensorSpec(shape=(32, 28), dtype=tf.float64, name='data/0/3')), TensorSpec(shape=(32, 32, 32, 2), dtype=tf.float64, name='data/1')), <tensorflow.python.framework.func_graph.UnknownArgument object at 0x148f1c520>), {}).\n"
     ]
    },
    {
     "name": "stderr",
     "output_type": "stream",
     "text": [
      " INFO - Unsupported signature for serialization: ((((TensorSpec(shape=(32, 32, 32, 6), dtype=tf.float64, name='data/0/0'), TensorSpec(shape=(32, 32, 32, 6), dtype=tf.float64, name='data/0/1'), TensorSpec(shape=(32, 32, 32, 6), dtype=tf.float64, name='data/0/2'), TensorSpec(shape=(32, 28), dtype=tf.float64, name='data/0/3')), TensorSpec(shape=(32, 32, 32, 2), dtype=tf.float64, name='data/1')), <tensorflow.python.framework.func_graph.UnknownArgument object at 0x148f1c520>), {}).\n",
      " WARNING - Found untraced functions such as test_step, conv2d_layer_call_fn, conv2d_layer_call_and_return_conditional_losses, _jit_compiled_convolution_op, conv2d_25_layer_call_fn while saving (showing 5 of 455). These functions will not be directly callable after loading.\n"
     ]
    },
    {
     "name": "stdout",
     "output_type": "stream",
     "text": [
      "INFO:tensorflow:Assets written to: model_logs/20230408-122535/assets\n"
     ]
    },
    {
     "name": "stderr",
     "output_type": "stream",
     "text": [
      " INFO - Assets written to: model_logs/20230408-122535/assets\n"
     ]
    },
    {
     "name": "stdout",
     "output_type": "stream",
     "text": [
      "Epoch: 23\t\n",
      "MSE_train: 0.00092, RMSE_test: 22.19529\n",
      "INFO:tensorflow:Unsupported signature for serialization: ((((TensorSpec(shape=(32, 32, 32, 6), dtype=tf.float64, name='data/0/0'), TensorSpec(shape=(32, 32, 32, 6), dtype=tf.float64, name='data/0/1'), TensorSpec(shape=(32, 32, 32, 6), dtype=tf.float64, name='data/0/2'), TensorSpec(shape=(32, 28), dtype=tf.float64, name='data/0/3')), TensorSpec(shape=(32, 32, 32, 2), dtype=tf.float64, name='data/1')), <tensorflow.python.framework.func_graph.UnknownArgument object at 0x148f1c520>), {}).\n"
     ]
    },
    {
     "name": "stderr",
     "output_type": "stream",
     "text": [
      " INFO - Unsupported signature for serialization: ((((TensorSpec(shape=(32, 32, 32, 6), dtype=tf.float64, name='data/0/0'), TensorSpec(shape=(32, 32, 32, 6), dtype=tf.float64, name='data/0/1'), TensorSpec(shape=(32, 32, 32, 6), dtype=tf.float64, name='data/0/2'), TensorSpec(shape=(32, 28), dtype=tf.float64, name='data/0/3')), TensorSpec(shape=(32, 32, 32, 2), dtype=tf.float64, name='data/1')), <tensorflow.python.framework.func_graph.UnknownArgument object at 0x148f1c520>), {}).\n"
     ]
    },
    {
     "name": "stdout",
     "output_type": "stream",
     "text": [
      "INFO:tensorflow:Unsupported signature for serialization: ((((TensorSpec(shape=(32, 32, 32, 6), dtype=tf.float64, name='data/0/0'), TensorSpec(shape=(32, 32, 32, 6), dtype=tf.float64, name='data/0/1'), TensorSpec(shape=(32, 32, 32, 6), dtype=tf.float64, name='data/0/2'), TensorSpec(shape=(32, 28), dtype=tf.float64, name='data/0/3')), TensorSpec(shape=(32, 32, 32, 2), dtype=tf.float64, name='data/1')), <tensorflow.python.framework.func_graph.UnknownArgument object at 0x148f1c520>), {}).\n"
     ]
    },
    {
     "name": "stderr",
     "output_type": "stream",
     "text": [
      " INFO - Unsupported signature for serialization: ((((TensorSpec(shape=(32, 32, 32, 6), dtype=tf.float64, name='data/0/0'), TensorSpec(shape=(32, 32, 32, 6), dtype=tf.float64, name='data/0/1'), TensorSpec(shape=(32, 32, 32, 6), dtype=tf.float64, name='data/0/2'), TensorSpec(shape=(32, 28), dtype=tf.float64, name='data/0/3')), TensorSpec(shape=(32, 32, 32, 2), dtype=tf.float64, name='data/1')), <tensorflow.python.framework.func_graph.UnknownArgument object at 0x148f1c520>), {}).\n",
      " WARNING - Found untraced functions such as test_step, conv2d_layer_call_fn, conv2d_layer_call_and_return_conditional_losses, _jit_compiled_convolution_op, conv2d_25_layer_call_fn while saving (showing 5 of 455). These functions will not be directly callable after loading.\n"
     ]
    },
    {
     "name": "stdout",
     "output_type": "stream",
     "text": [
      "INFO:tensorflow:Assets written to: model_logs/20230408-122535/assets\n"
     ]
    },
    {
     "name": "stderr",
     "output_type": "stream",
     "text": [
      " INFO - Assets written to: model_logs/20230408-122535/assets\n"
     ]
    },
    {
     "name": "stdout",
     "output_type": "stream",
     "text": [
      "Epoch: 24\t\n",
      "MSE_train: 0.00096, RMSE_test: 23.21061\n",
      "INFO:tensorflow:Unsupported signature for serialization: ((((TensorSpec(shape=(32, 32, 32, 6), dtype=tf.float64, name='data/0/0'), TensorSpec(shape=(32, 32, 32, 6), dtype=tf.float64, name='data/0/1'), TensorSpec(shape=(32, 32, 32, 6), dtype=tf.float64, name='data/0/2'), TensorSpec(shape=(32, 28), dtype=tf.float64, name='data/0/3')), TensorSpec(shape=(32, 32, 32, 2), dtype=tf.float64, name='data/1')), <tensorflow.python.framework.func_graph.UnknownArgument object at 0x148f1c520>), {}).\n"
     ]
    },
    {
     "name": "stderr",
     "output_type": "stream",
     "text": [
      " INFO - Unsupported signature for serialization: ((((TensorSpec(shape=(32, 32, 32, 6), dtype=tf.float64, name='data/0/0'), TensorSpec(shape=(32, 32, 32, 6), dtype=tf.float64, name='data/0/1'), TensorSpec(shape=(32, 32, 32, 6), dtype=tf.float64, name='data/0/2'), TensorSpec(shape=(32, 28), dtype=tf.float64, name='data/0/3')), TensorSpec(shape=(32, 32, 32, 2), dtype=tf.float64, name='data/1')), <tensorflow.python.framework.func_graph.UnknownArgument object at 0x148f1c520>), {}).\n"
     ]
    },
    {
     "name": "stdout",
     "output_type": "stream",
     "text": [
      "INFO:tensorflow:Unsupported signature for serialization: ((((TensorSpec(shape=(32, 32, 32, 6), dtype=tf.float64, name='data/0/0'), TensorSpec(shape=(32, 32, 32, 6), dtype=tf.float64, name='data/0/1'), TensorSpec(shape=(32, 32, 32, 6), dtype=tf.float64, name='data/0/2'), TensorSpec(shape=(32, 28), dtype=tf.float64, name='data/0/3')), TensorSpec(shape=(32, 32, 32, 2), dtype=tf.float64, name='data/1')), <tensorflow.python.framework.func_graph.UnknownArgument object at 0x148f1c520>), {}).\n"
     ]
    },
    {
     "name": "stderr",
     "output_type": "stream",
     "text": [
      " INFO - Unsupported signature for serialization: ((((TensorSpec(shape=(32, 32, 32, 6), dtype=tf.float64, name='data/0/0'), TensorSpec(shape=(32, 32, 32, 6), dtype=tf.float64, name='data/0/1'), TensorSpec(shape=(32, 32, 32, 6), dtype=tf.float64, name='data/0/2'), TensorSpec(shape=(32, 28), dtype=tf.float64, name='data/0/3')), TensorSpec(shape=(32, 32, 32, 2), dtype=tf.float64, name='data/1')), <tensorflow.python.framework.func_graph.UnknownArgument object at 0x148f1c520>), {}).\n",
      " WARNING - Found untraced functions such as test_step, conv2d_layer_call_fn, conv2d_layer_call_and_return_conditional_losses, _jit_compiled_convolution_op, conv2d_25_layer_call_fn while saving (showing 5 of 455). These functions will not be directly callable after loading.\n"
     ]
    },
    {
     "name": "stdout",
     "output_type": "stream",
     "text": [
      "INFO:tensorflow:Assets written to: model_logs/20230408-122535/assets\n"
     ]
    },
    {
     "name": "stderr",
     "output_type": "stream",
     "text": [
      " INFO - Assets written to: model_logs/20230408-122535/assets\n"
     ]
    },
    {
     "name": "stdout",
     "output_type": "stream",
     "text": [
      "Epoch: 25\t\n",
      "MSE_train: 0.00091, RMSE_test: 21.86082\n",
      "INFO:tensorflow:Unsupported signature for serialization: ((((TensorSpec(shape=(32, 32, 32, 6), dtype=tf.float64, name='data/0/0'), TensorSpec(shape=(32, 32, 32, 6), dtype=tf.float64, name='data/0/1'), TensorSpec(shape=(32, 32, 32, 6), dtype=tf.float64, name='data/0/2'), TensorSpec(shape=(32, 28), dtype=tf.float64, name='data/0/3')), TensorSpec(shape=(32, 32, 32, 2), dtype=tf.float64, name='data/1')), <tensorflow.python.framework.func_graph.UnknownArgument object at 0x148f1c520>), {}).\n"
     ]
    },
    {
     "name": "stderr",
     "output_type": "stream",
     "text": [
      " INFO - Unsupported signature for serialization: ((((TensorSpec(shape=(32, 32, 32, 6), dtype=tf.float64, name='data/0/0'), TensorSpec(shape=(32, 32, 32, 6), dtype=tf.float64, name='data/0/1'), TensorSpec(shape=(32, 32, 32, 6), dtype=tf.float64, name='data/0/2'), TensorSpec(shape=(32, 28), dtype=tf.float64, name='data/0/3')), TensorSpec(shape=(32, 32, 32, 2), dtype=tf.float64, name='data/1')), <tensorflow.python.framework.func_graph.UnknownArgument object at 0x148f1c520>), {}).\n"
     ]
    },
    {
     "name": "stdout",
     "output_type": "stream",
     "text": [
      "INFO:tensorflow:Unsupported signature for serialization: ((((TensorSpec(shape=(32, 32, 32, 6), dtype=tf.float64, name='data/0/0'), TensorSpec(shape=(32, 32, 32, 6), dtype=tf.float64, name='data/0/1'), TensorSpec(shape=(32, 32, 32, 6), dtype=tf.float64, name='data/0/2'), TensorSpec(shape=(32, 28), dtype=tf.float64, name='data/0/3')), TensorSpec(shape=(32, 32, 32, 2), dtype=tf.float64, name='data/1')), <tensorflow.python.framework.func_graph.UnknownArgument object at 0x148f1c520>), {}).\n"
     ]
    },
    {
     "name": "stderr",
     "output_type": "stream",
     "text": [
      " INFO - Unsupported signature for serialization: ((((TensorSpec(shape=(32, 32, 32, 6), dtype=tf.float64, name='data/0/0'), TensorSpec(shape=(32, 32, 32, 6), dtype=tf.float64, name='data/0/1'), TensorSpec(shape=(32, 32, 32, 6), dtype=tf.float64, name='data/0/2'), TensorSpec(shape=(32, 28), dtype=tf.float64, name='data/0/3')), TensorSpec(shape=(32, 32, 32, 2), dtype=tf.float64, name='data/1')), <tensorflow.python.framework.func_graph.UnknownArgument object at 0x148f1c520>), {}).\n",
      " WARNING - Found untraced functions such as test_step, conv2d_layer_call_fn, conv2d_layer_call_and_return_conditional_losses, _jit_compiled_convolution_op, conv2d_25_layer_call_fn while saving (showing 5 of 455). These functions will not be directly callable after loading.\n"
     ]
    },
    {
     "name": "stdout",
     "output_type": "stream",
     "text": [
      "INFO:tensorflow:Assets written to: model_logs/20230408-122535/assets\n"
     ]
    },
    {
     "name": "stderr",
     "output_type": "stream",
     "text": [
      " INFO - Assets written to: model_logs/20230408-122535/assets\n"
     ]
    },
    {
     "name": "stdout",
     "output_type": "stream",
     "text": [
      "Epoch: 26\t\n",
      "MSE_train: 0.00088, RMSE_test: 22.00842\n",
      "INFO:tensorflow:Unsupported signature for serialization: ((((TensorSpec(shape=(32, 32, 32, 6), dtype=tf.float64, name='data/0/0'), TensorSpec(shape=(32, 32, 32, 6), dtype=tf.float64, name='data/0/1'), TensorSpec(shape=(32, 32, 32, 6), dtype=tf.float64, name='data/0/2'), TensorSpec(shape=(32, 28), dtype=tf.float64, name='data/0/3')), TensorSpec(shape=(32, 32, 32, 2), dtype=tf.float64, name='data/1')), <tensorflow.python.framework.func_graph.UnknownArgument object at 0x148f1c520>), {}).\n"
     ]
    },
    {
     "name": "stderr",
     "output_type": "stream",
     "text": [
      " INFO - Unsupported signature for serialization: ((((TensorSpec(shape=(32, 32, 32, 6), dtype=tf.float64, name='data/0/0'), TensorSpec(shape=(32, 32, 32, 6), dtype=tf.float64, name='data/0/1'), TensorSpec(shape=(32, 32, 32, 6), dtype=tf.float64, name='data/0/2'), TensorSpec(shape=(32, 28), dtype=tf.float64, name='data/0/3')), TensorSpec(shape=(32, 32, 32, 2), dtype=tf.float64, name='data/1')), <tensorflow.python.framework.func_graph.UnknownArgument object at 0x148f1c520>), {}).\n"
     ]
    },
    {
     "name": "stdout",
     "output_type": "stream",
     "text": [
      "INFO:tensorflow:Unsupported signature for serialization: ((((TensorSpec(shape=(32, 32, 32, 6), dtype=tf.float64, name='data/0/0'), TensorSpec(shape=(32, 32, 32, 6), dtype=tf.float64, name='data/0/1'), TensorSpec(shape=(32, 32, 32, 6), dtype=tf.float64, name='data/0/2'), TensorSpec(shape=(32, 28), dtype=tf.float64, name='data/0/3')), TensorSpec(shape=(32, 32, 32, 2), dtype=tf.float64, name='data/1')), <tensorflow.python.framework.func_graph.UnknownArgument object at 0x148f1c520>), {}).\n"
     ]
    },
    {
     "name": "stderr",
     "output_type": "stream",
     "text": [
      " INFO - Unsupported signature for serialization: ((((TensorSpec(shape=(32, 32, 32, 6), dtype=tf.float64, name='data/0/0'), TensorSpec(shape=(32, 32, 32, 6), dtype=tf.float64, name='data/0/1'), TensorSpec(shape=(32, 32, 32, 6), dtype=tf.float64, name='data/0/2'), TensorSpec(shape=(32, 28), dtype=tf.float64, name='data/0/3')), TensorSpec(shape=(32, 32, 32, 2), dtype=tf.float64, name='data/1')), <tensorflow.python.framework.func_graph.UnknownArgument object at 0x148f1c520>), {}).\n",
      " WARNING - Found untraced functions such as test_step, conv2d_layer_call_fn, conv2d_layer_call_and_return_conditional_losses, _jit_compiled_convolution_op, conv2d_25_layer_call_fn while saving (showing 5 of 455). These functions will not be directly callable after loading.\n"
     ]
    },
    {
     "name": "stdout",
     "output_type": "stream",
     "text": [
      "INFO:tensorflow:Assets written to: model_logs/20230408-122535/assets\n"
     ]
    },
    {
     "name": "stderr",
     "output_type": "stream",
     "text": [
      " INFO - Assets written to: model_logs/20230408-122535/assets\n"
     ]
    },
    {
     "name": "stdout",
     "output_type": "stream",
     "text": [
      "Epoch: 27\t\n",
      "MSE_train: 0.00087, RMSE_test: 22.39951\n",
      "INFO:tensorflow:Unsupported signature for serialization: ((((TensorSpec(shape=(32, 32, 32, 6), dtype=tf.float64, name='data/0/0'), TensorSpec(shape=(32, 32, 32, 6), dtype=tf.float64, name='data/0/1'), TensorSpec(shape=(32, 32, 32, 6), dtype=tf.float64, name='data/0/2'), TensorSpec(shape=(32, 28), dtype=tf.float64, name='data/0/3')), TensorSpec(shape=(32, 32, 32, 2), dtype=tf.float64, name='data/1')), <tensorflow.python.framework.func_graph.UnknownArgument object at 0x148f1c520>), {}).\n"
     ]
    },
    {
     "name": "stderr",
     "output_type": "stream",
     "text": [
      " INFO - Unsupported signature for serialization: ((((TensorSpec(shape=(32, 32, 32, 6), dtype=tf.float64, name='data/0/0'), TensorSpec(shape=(32, 32, 32, 6), dtype=tf.float64, name='data/0/1'), TensorSpec(shape=(32, 32, 32, 6), dtype=tf.float64, name='data/0/2'), TensorSpec(shape=(32, 28), dtype=tf.float64, name='data/0/3')), TensorSpec(shape=(32, 32, 32, 2), dtype=tf.float64, name='data/1')), <tensorflow.python.framework.func_graph.UnknownArgument object at 0x148f1c520>), {}).\n"
     ]
    },
    {
     "name": "stdout",
     "output_type": "stream",
     "text": [
      "INFO:tensorflow:Unsupported signature for serialization: ((((TensorSpec(shape=(32, 32, 32, 6), dtype=tf.float64, name='data/0/0'), TensorSpec(shape=(32, 32, 32, 6), dtype=tf.float64, name='data/0/1'), TensorSpec(shape=(32, 32, 32, 6), dtype=tf.float64, name='data/0/2'), TensorSpec(shape=(32, 28), dtype=tf.float64, name='data/0/3')), TensorSpec(shape=(32, 32, 32, 2), dtype=tf.float64, name='data/1')), <tensorflow.python.framework.func_graph.UnknownArgument object at 0x148f1c520>), {}).\n"
     ]
    },
    {
     "name": "stderr",
     "output_type": "stream",
     "text": [
      " INFO - Unsupported signature for serialization: ((((TensorSpec(shape=(32, 32, 32, 6), dtype=tf.float64, name='data/0/0'), TensorSpec(shape=(32, 32, 32, 6), dtype=tf.float64, name='data/0/1'), TensorSpec(shape=(32, 32, 32, 6), dtype=tf.float64, name='data/0/2'), TensorSpec(shape=(32, 28), dtype=tf.float64, name='data/0/3')), TensorSpec(shape=(32, 32, 32, 2), dtype=tf.float64, name='data/1')), <tensorflow.python.framework.func_graph.UnknownArgument object at 0x148f1c520>), {}).\n",
      " WARNING - Found untraced functions such as test_step, conv2d_layer_call_fn, conv2d_layer_call_and_return_conditional_losses, _jit_compiled_convolution_op, conv2d_25_layer_call_fn while saving (showing 5 of 455). These functions will not be directly callable after loading.\n"
     ]
    },
    {
     "name": "stdout",
     "output_type": "stream",
     "text": [
      "INFO:tensorflow:Assets written to: model_logs/20230408-122535/assets\n"
     ]
    },
    {
     "name": "stderr",
     "output_type": "stream",
     "text": [
      " INFO - Assets written to: model_logs/20230408-122535/assets\n"
     ]
    },
    {
     "name": "stdout",
     "output_type": "stream",
     "text": [
      "Epoch: 28\t\n",
      "MSE_train: 0.00087, RMSE_test: 21.79410\n",
      "INFO:tensorflow:Unsupported signature for serialization: ((((TensorSpec(shape=(32, 32, 32, 6), dtype=tf.float64, name='data/0/0'), TensorSpec(shape=(32, 32, 32, 6), dtype=tf.float64, name='data/0/1'), TensorSpec(shape=(32, 32, 32, 6), dtype=tf.float64, name='data/0/2'), TensorSpec(shape=(32, 28), dtype=tf.float64, name='data/0/3')), TensorSpec(shape=(32, 32, 32, 2), dtype=tf.float64, name='data/1')), <tensorflow.python.framework.func_graph.UnknownArgument object at 0x148f1c520>), {}).\n"
     ]
    },
    {
     "name": "stderr",
     "output_type": "stream",
     "text": [
      " INFO - Unsupported signature for serialization: ((((TensorSpec(shape=(32, 32, 32, 6), dtype=tf.float64, name='data/0/0'), TensorSpec(shape=(32, 32, 32, 6), dtype=tf.float64, name='data/0/1'), TensorSpec(shape=(32, 32, 32, 6), dtype=tf.float64, name='data/0/2'), TensorSpec(shape=(32, 28), dtype=tf.float64, name='data/0/3')), TensorSpec(shape=(32, 32, 32, 2), dtype=tf.float64, name='data/1')), <tensorflow.python.framework.func_graph.UnknownArgument object at 0x148f1c520>), {}).\n"
     ]
    },
    {
     "name": "stdout",
     "output_type": "stream",
     "text": [
      "INFO:tensorflow:Unsupported signature for serialization: ((((TensorSpec(shape=(32, 32, 32, 6), dtype=tf.float64, name='data/0/0'), TensorSpec(shape=(32, 32, 32, 6), dtype=tf.float64, name='data/0/1'), TensorSpec(shape=(32, 32, 32, 6), dtype=tf.float64, name='data/0/2'), TensorSpec(shape=(32, 28), dtype=tf.float64, name='data/0/3')), TensorSpec(shape=(32, 32, 32, 2), dtype=tf.float64, name='data/1')), <tensorflow.python.framework.func_graph.UnknownArgument object at 0x148f1c520>), {}).\n"
     ]
    },
    {
     "name": "stderr",
     "output_type": "stream",
     "text": [
      " INFO - Unsupported signature for serialization: ((((TensorSpec(shape=(32, 32, 32, 6), dtype=tf.float64, name='data/0/0'), TensorSpec(shape=(32, 32, 32, 6), dtype=tf.float64, name='data/0/1'), TensorSpec(shape=(32, 32, 32, 6), dtype=tf.float64, name='data/0/2'), TensorSpec(shape=(32, 28), dtype=tf.float64, name='data/0/3')), TensorSpec(shape=(32, 32, 32, 2), dtype=tf.float64, name='data/1')), <tensorflow.python.framework.func_graph.UnknownArgument object at 0x148f1c520>), {}).\n",
      " WARNING - Found untraced functions such as test_step, conv2d_layer_call_fn, conv2d_layer_call_and_return_conditional_losses, _jit_compiled_convolution_op, conv2d_25_layer_call_fn while saving (showing 5 of 455). These functions will not be directly callable after loading.\n"
     ]
    },
    {
     "name": "stdout",
     "output_type": "stream",
     "text": [
      "INFO:tensorflow:Assets written to: model_logs/20230408-122535/assets\n"
     ]
    },
    {
     "name": "stderr",
     "output_type": "stream",
     "text": [
      " INFO - Assets written to: model_logs/20230408-122535/assets\n"
     ]
    },
    {
     "name": "stdout",
     "output_type": "stream",
     "text": [
      "Epoch: 29\t\n",
      "MSE_train: 0.00084, RMSE_test: 21.40086\n",
      "INFO:tensorflow:Unsupported signature for serialization: ((((TensorSpec(shape=(32, 32, 32, 6), dtype=tf.float64, name='data/0/0'), TensorSpec(shape=(32, 32, 32, 6), dtype=tf.float64, name='data/0/1'), TensorSpec(shape=(32, 32, 32, 6), dtype=tf.float64, name='data/0/2'), TensorSpec(shape=(32, 28), dtype=tf.float64, name='data/0/3')), TensorSpec(shape=(32, 32, 32, 2), dtype=tf.float64, name='data/1')), <tensorflow.python.framework.func_graph.UnknownArgument object at 0x148f1c520>), {}).\n"
     ]
    },
    {
     "name": "stderr",
     "output_type": "stream",
     "text": [
      " INFO - Unsupported signature for serialization: ((((TensorSpec(shape=(32, 32, 32, 6), dtype=tf.float64, name='data/0/0'), TensorSpec(shape=(32, 32, 32, 6), dtype=tf.float64, name='data/0/1'), TensorSpec(shape=(32, 32, 32, 6), dtype=tf.float64, name='data/0/2'), TensorSpec(shape=(32, 28), dtype=tf.float64, name='data/0/3')), TensorSpec(shape=(32, 32, 32, 2), dtype=tf.float64, name='data/1')), <tensorflow.python.framework.func_graph.UnknownArgument object at 0x148f1c520>), {}).\n"
     ]
    },
    {
     "name": "stdout",
     "output_type": "stream",
     "text": [
      "INFO:tensorflow:Unsupported signature for serialization: ((((TensorSpec(shape=(32, 32, 32, 6), dtype=tf.float64, name='data/0/0'), TensorSpec(shape=(32, 32, 32, 6), dtype=tf.float64, name='data/0/1'), TensorSpec(shape=(32, 32, 32, 6), dtype=tf.float64, name='data/0/2'), TensorSpec(shape=(32, 28), dtype=tf.float64, name='data/0/3')), TensorSpec(shape=(32, 32, 32, 2), dtype=tf.float64, name='data/1')), <tensorflow.python.framework.func_graph.UnknownArgument object at 0x148f1c520>), {}).\n"
     ]
    },
    {
     "name": "stderr",
     "output_type": "stream",
     "text": [
      " INFO - Unsupported signature for serialization: ((((TensorSpec(shape=(32, 32, 32, 6), dtype=tf.float64, name='data/0/0'), TensorSpec(shape=(32, 32, 32, 6), dtype=tf.float64, name='data/0/1'), TensorSpec(shape=(32, 32, 32, 6), dtype=tf.float64, name='data/0/2'), TensorSpec(shape=(32, 28), dtype=tf.float64, name='data/0/3')), TensorSpec(shape=(32, 32, 32, 2), dtype=tf.float64, name='data/1')), <tensorflow.python.framework.func_graph.UnknownArgument object at 0x148f1c520>), {}).\n",
      " WARNING - Found untraced functions such as test_step, conv2d_layer_call_fn, conv2d_layer_call_and_return_conditional_losses, _jit_compiled_convolution_op, conv2d_25_layer_call_fn while saving (showing 5 of 455). These functions will not be directly callable after loading.\n"
     ]
    },
    {
     "name": "stdout",
     "output_type": "stream",
     "text": [
      "INFO:tensorflow:Assets written to: model_logs/20230408-122535/assets\n"
     ]
    },
    {
     "name": "stderr",
     "output_type": "stream",
     "text": [
      " INFO - Assets written to: model_logs/20230408-122535/assets\n"
     ]
    },
    {
     "name": "stdout",
     "output_type": "stream",
     "text": [
      "Epoch: 30\t\n",
      "MSE_train: 0.00088, RMSE_test: 22.32088\n",
      "INFO:tensorflow:Unsupported signature for serialization: ((((TensorSpec(shape=(32, 32, 32, 6), dtype=tf.float64, name='data/0/0'), TensorSpec(shape=(32, 32, 32, 6), dtype=tf.float64, name='data/0/1'), TensorSpec(shape=(32, 32, 32, 6), dtype=tf.float64, name='data/0/2'), TensorSpec(shape=(32, 28), dtype=tf.float64, name='data/0/3')), TensorSpec(shape=(32, 32, 32, 2), dtype=tf.float64, name='data/1')), <tensorflow.python.framework.func_graph.UnknownArgument object at 0x148f1c520>), {}).\n"
     ]
    },
    {
     "name": "stderr",
     "output_type": "stream",
     "text": [
      " INFO - Unsupported signature for serialization: ((((TensorSpec(shape=(32, 32, 32, 6), dtype=tf.float64, name='data/0/0'), TensorSpec(shape=(32, 32, 32, 6), dtype=tf.float64, name='data/0/1'), TensorSpec(shape=(32, 32, 32, 6), dtype=tf.float64, name='data/0/2'), TensorSpec(shape=(32, 28), dtype=tf.float64, name='data/0/3')), TensorSpec(shape=(32, 32, 32, 2), dtype=tf.float64, name='data/1')), <tensorflow.python.framework.func_graph.UnknownArgument object at 0x148f1c520>), {}).\n"
     ]
    },
    {
     "name": "stdout",
     "output_type": "stream",
     "text": [
      "INFO:tensorflow:Unsupported signature for serialization: ((((TensorSpec(shape=(32, 32, 32, 6), dtype=tf.float64, name='data/0/0'), TensorSpec(shape=(32, 32, 32, 6), dtype=tf.float64, name='data/0/1'), TensorSpec(shape=(32, 32, 32, 6), dtype=tf.float64, name='data/0/2'), TensorSpec(shape=(32, 28), dtype=tf.float64, name='data/0/3')), TensorSpec(shape=(32, 32, 32, 2), dtype=tf.float64, name='data/1')), <tensorflow.python.framework.func_graph.UnknownArgument object at 0x148f1c520>), {}).\n"
     ]
    },
    {
     "name": "stderr",
     "output_type": "stream",
     "text": [
      " INFO - Unsupported signature for serialization: ((((TensorSpec(shape=(32, 32, 32, 6), dtype=tf.float64, name='data/0/0'), TensorSpec(shape=(32, 32, 32, 6), dtype=tf.float64, name='data/0/1'), TensorSpec(shape=(32, 32, 32, 6), dtype=tf.float64, name='data/0/2'), TensorSpec(shape=(32, 28), dtype=tf.float64, name='data/0/3')), TensorSpec(shape=(32, 32, 32, 2), dtype=tf.float64, name='data/1')), <tensorflow.python.framework.func_graph.UnknownArgument object at 0x148f1c520>), {}).\n",
      " WARNING - Found untraced functions such as test_step, conv2d_layer_call_fn, conv2d_layer_call_and_return_conditional_losses, _jit_compiled_convolution_op, conv2d_25_layer_call_fn while saving (showing 5 of 455). These functions will not be directly callable after loading.\n"
     ]
    },
    {
     "name": "stdout",
     "output_type": "stream",
     "text": [
      "INFO:tensorflow:Assets written to: model_logs/20230408-122535/assets\n"
     ]
    },
    {
     "name": "stderr",
     "output_type": "stream",
     "text": [
      " INFO - Assets written to: model_logs/20230408-122535/assets\n"
     ]
    },
    {
     "name": "stdout",
     "output_type": "stream",
     "text": [
      "Epoch: 31\t\n",
      "MSE_train: 0.00088, RMSE_test: 22.31310\n",
      "INFO:tensorflow:Unsupported signature for serialization: ((((TensorSpec(shape=(32, 32, 32, 6), dtype=tf.float64, name='data/0/0'), TensorSpec(shape=(32, 32, 32, 6), dtype=tf.float64, name='data/0/1'), TensorSpec(shape=(32, 32, 32, 6), dtype=tf.float64, name='data/0/2'), TensorSpec(shape=(32, 28), dtype=tf.float64, name='data/0/3')), TensorSpec(shape=(32, 32, 32, 2), dtype=tf.float64, name='data/1')), <tensorflow.python.framework.func_graph.UnknownArgument object at 0x148f1c520>), {}).\n"
     ]
    },
    {
     "name": "stderr",
     "output_type": "stream",
     "text": [
      " INFO - Unsupported signature for serialization: ((((TensorSpec(shape=(32, 32, 32, 6), dtype=tf.float64, name='data/0/0'), TensorSpec(shape=(32, 32, 32, 6), dtype=tf.float64, name='data/0/1'), TensorSpec(shape=(32, 32, 32, 6), dtype=tf.float64, name='data/0/2'), TensorSpec(shape=(32, 28), dtype=tf.float64, name='data/0/3')), TensorSpec(shape=(32, 32, 32, 2), dtype=tf.float64, name='data/1')), <tensorflow.python.framework.func_graph.UnknownArgument object at 0x148f1c520>), {}).\n"
     ]
    },
    {
     "name": "stdout",
     "output_type": "stream",
     "text": [
      "INFO:tensorflow:Unsupported signature for serialization: ((((TensorSpec(shape=(32, 32, 32, 6), dtype=tf.float64, name='data/0/0'), TensorSpec(shape=(32, 32, 32, 6), dtype=tf.float64, name='data/0/1'), TensorSpec(shape=(32, 32, 32, 6), dtype=tf.float64, name='data/0/2'), TensorSpec(shape=(32, 28), dtype=tf.float64, name='data/0/3')), TensorSpec(shape=(32, 32, 32, 2), dtype=tf.float64, name='data/1')), <tensorflow.python.framework.func_graph.UnknownArgument object at 0x148f1c520>), {}).\n"
     ]
    },
    {
     "name": "stderr",
     "output_type": "stream",
     "text": [
      " INFO - Unsupported signature for serialization: ((((TensorSpec(shape=(32, 32, 32, 6), dtype=tf.float64, name='data/0/0'), TensorSpec(shape=(32, 32, 32, 6), dtype=tf.float64, name='data/0/1'), TensorSpec(shape=(32, 32, 32, 6), dtype=tf.float64, name='data/0/2'), TensorSpec(shape=(32, 28), dtype=tf.float64, name='data/0/3')), TensorSpec(shape=(32, 32, 32, 2), dtype=tf.float64, name='data/1')), <tensorflow.python.framework.func_graph.UnknownArgument object at 0x148f1c520>), {}).\n",
      " WARNING - Found untraced functions such as test_step, conv2d_layer_call_fn, conv2d_layer_call_and_return_conditional_losses, _jit_compiled_convolution_op, conv2d_25_layer_call_fn while saving (showing 5 of 455). These functions will not be directly callable after loading.\n"
     ]
    },
    {
     "name": "stdout",
     "output_type": "stream",
     "text": [
      "INFO:tensorflow:Assets written to: model_logs/20230408-122535/assets\n"
     ]
    },
    {
     "name": "stderr",
     "output_type": "stream",
     "text": [
      " INFO - Assets written to: model_logs/20230408-122535/assets\n"
     ]
    },
    {
     "name": "stdout",
     "output_type": "stream",
     "text": [
      "Epoch: 32\t\n",
      "MSE_train: 0.00083, RMSE_test: 22.24478\n",
      "INFO:tensorflow:Unsupported signature for serialization: ((((TensorSpec(shape=(32, 32, 32, 6), dtype=tf.float64, name='data/0/0'), TensorSpec(shape=(32, 32, 32, 6), dtype=tf.float64, name='data/0/1'), TensorSpec(shape=(32, 32, 32, 6), dtype=tf.float64, name='data/0/2'), TensorSpec(shape=(32, 28), dtype=tf.float64, name='data/0/3')), TensorSpec(shape=(32, 32, 32, 2), dtype=tf.float64, name='data/1')), <tensorflow.python.framework.func_graph.UnknownArgument object at 0x148f1c520>), {}).\n"
     ]
    },
    {
     "name": "stderr",
     "output_type": "stream",
     "text": [
      " INFO - Unsupported signature for serialization: ((((TensorSpec(shape=(32, 32, 32, 6), dtype=tf.float64, name='data/0/0'), TensorSpec(shape=(32, 32, 32, 6), dtype=tf.float64, name='data/0/1'), TensorSpec(shape=(32, 32, 32, 6), dtype=tf.float64, name='data/0/2'), TensorSpec(shape=(32, 28), dtype=tf.float64, name='data/0/3')), TensorSpec(shape=(32, 32, 32, 2), dtype=tf.float64, name='data/1')), <tensorflow.python.framework.func_graph.UnknownArgument object at 0x148f1c520>), {}).\n"
     ]
    },
    {
     "name": "stdout",
     "output_type": "stream",
     "text": [
      "INFO:tensorflow:Unsupported signature for serialization: ((((TensorSpec(shape=(32, 32, 32, 6), dtype=tf.float64, name='data/0/0'), TensorSpec(shape=(32, 32, 32, 6), dtype=tf.float64, name='data/0/1'), TensorSpec(shape=(32, 32, 32, 6), dtype=tf.float64, name='data/0/2'), TensorSpec(shape=(32, 28), dtype=tf.float64, name='data/0/3')), TensorSpec(shape=(32, 32, 32, 2), dtype=tf.float64, name='data/1')), <tensorflow.python.framework.func_graph.UnknownArgument object at 0x148f1c520>), {}).\n"
     ]
    },
    {
     "name": "stderr",
     "output_type": "stream",
     "text": [
      " INFO - Unsupported signature for serialization: ((((TensorSpec(shape=(32, 32, 32, 6), dtype=tf.float64, name='data/0/0'), TensorSpec(shape=(32, 32, 32, 6), dtype=tf.float64, name='data/0/1'), TensorSpec(shape=(32, 32, 32, 6), dtype=tf.float64, name='data/0/2'), TensorSpec(shape=(32, 28), dtype=tf.float64, name='data/0/3')), TensorSpec(shape=(32, 32, 32, 2), dtype=tf.float64, name='data/1')), <tensorflow.python.framework.func_graph.UnknownArgument object at 0x148f1c520>), {}).\n",
      " WARNING - Found untraced functions such as test_step, conv2d_layer_call_fn, conv2d_layer_call_and_return_conditional_losses, _jit_compiled_convolution_op, conv2d_25_layer_call_fn while saving (showing 5 of 455). These functions will not be directly callable after loading.\n"
     ]
    },
    {
     "name": "stdout",
     "output_type": "stream",
     "text": [
      "INFO:tensorflow:Assets written to: model_logs/20230408-122535/assets\n"
     ]
    },
    {
     "name": "stderr",
     "output_type": "stream",
     "text": [
      " INFO - Assets written to: model_logs/20230408-122535/assets\n"
     ]
    },
    {
     "name": "stdout",
     "output_type": "stream",
     "text": [
      "Epoch: 33\t\n",
      "MSE_train: 0.00082, RMSE_test: 21.54579\n",
      "INFO:tensorflow:Unsupported signature for serialization: ((((TensorSpec(shape=(32, 32, 32, 6), dtype=tf.float64, name='data/0/0'), TensorSpec(shape=(32, 32, 32, 6), dtype=tf.float64, name='data/0/1'), TensorSpec(shape=(32, 32, 32, 6), dtype=tf.float64, name='data/0/2'), TensorSpec(shape=(32, 28), dtype=tf.float64, name='data/0/3')), TensorSpec(shape=(32, 32, 32, 2), dtype=tf.float64, name='data/1')), <tensorflow.python.framework.func_graph.UnknownArgument object at 0x148f1c520>), {}).\n"
     ]
    },
    {
     "name": "stderr",
     "output_type": "stream",
     "text": [
      " INFO - Unsupported signature for serialization: ((((TensorSpec(shape=(32, 32, 32, 6), dtype=tf.float64, name='data/0/0'), TensorSpec(shape=(32, 32, 32, 6), dtype=tf.float64, name='data/0/1'), TensorSpec(shape=(32, 32, 32, 6), dtype=tf.float64, name='data/0/2'), TensorSpec(shape=(32, 28), dtype=tf.float64, name='data/0/3')), TensorSpec(shape=(32, 32, 32, 2), dtype=tf.float64, name='data/1')), <tensorflow.python.framework.func_graph.UnknownArgument object at 0x148f1c520>), {}).\n"
     ]
    },
    {
     "name": "stdout",
     "output_type": "stream",
     "text": [
      "INFO:tensorflow:Unsupported signature for serialization: ((((TensorSpec(shape=(32, 32, 32, 6), dtype=tf.float64, name='data/0/0'), TensorSpec(shape=(32, 32, 32, 6), dtype=tf.float64, name='data/0/1'), TensorSpec(shape=(32, 32, 32, 6), dtype=tf.float64, name='data/0/2'), TensorSpec(shape=(32, 28), dtype=tf.float64, name='data/0/3')), TensorSpec(shape=(32, 32, 32, 2), dtype=tf.float64, name='data/1')), <tensorflow.python.framework.func_graph.UnknownArgument object at 0x148f1c520>), {}).\n"
     ]
    },
    {
     "name": "stderr",
     "output_type": "stream",
     "text": [
      " INFO - Unsupported signature for serialization: ((((TensorSpec(shape=(32, 32, 32, 6), dtype=tf.float64, name='data/0/0'), TensorSpec(shape=(32, 32, 32, 6), dtype=tf.float64, name='data/0/1'), TensorSpec(shape=(32, 32, 32, 6), dtype=tf.float64, name='data/0/2'), TensorSpec(shape=(32, 28), dtype=tf.float64, name='data/0/3')), TensorSpec(shape=(32, 32, 32, 2), dtype=tf.float64, name='data/1')), <tensorflow.python.framework.func_graph.UnknownArgument object at 0x148f1c520>), {}).\n",
      " WARNING - Found untraced functions such as test_step, conv2d_layer_call_fn, conv2d_layer_call_and_return_conditional_losses, _jit_compiled_convolution_op, conv2d_25_layer_call_fn while saving (showing 5 of 455). These functions will not be directly callable after loading.\n"
     ]
    },
    {
     "name": "stdout",
     "output_type": "stream",
     "text": [
      "INFO:tensorflow:Assets written to: model_logs/20230408-122535/assets\n"
     ]
    },
    {
     "name": "stderr",
     "output_type": "stream",
     "text": [
      " INFO - Assets written to: model_logs/20230408-122535/assets\n"
     ]
    },
    {
     "name": "stdout",
     "output_type": "stream",
     "text": [
      "Epoch: 34\t\n",
      "MSE_train: 0.00084, RMSE_test: 21.26977\n",
      "INFO:tensorflow:Unsupported signature for serialization: ((((TensorSpec(shape=(32, 32, 32, 6), dtype=tf.float64, name='data/0/0'), TensorSpec(shape=(32, 32, 32, 6), dtype=tf.float64, name='data/0/1'), TensorSpec(shape=(32, 32, 32, 6), dtype=tf.float64, name='data/0/2'), TensorSpec(shape=(32, 28), dtype=tf.float64, name='data/0/3')), TensorSpec(shape=(32, 32, 32, 2), dtype=tf.float64, name='data/1')), <tensorflow.python.framework.func_graph.UnknownArgument object at 0x148f1c520>), {}).\n"
     ]
    },
    {
     "name": "stderr",
     "output_type": "stream",
     "text": [
      " INFO - Unsupported signature for serialization: ((((TensorSpec(shape=(32, 32, 32, 6), dtype=tf.float64, name='data/0/0'), TensorSpec(shape=(32, 32, 32, 6), dtype=tf.float64, name='data/0/1'), TensorSpec(shape=(32, 32, 32, 6), dtype=tf.float64, name='data/0/2'), TensorSpec(shape=(32, 28), dtype=tf.float64, name='data/0/3')), TensorSpec(shape=(32, 32, 32, 2), dtype=tf.float64, name='data/1')), <tensorflow.python.framework.func_graph.UnknownArgument object at 0x148f1c520>), {}).\n"
     ]
    },
    {
     "name": "stdout",
     "output_type": "stream",
     "text": [
      "INFO:tensorflow:Unsupported signature for serialization: ((((TensorSpec(shape=(32, 32, 32, 6), dtype=tf.float64, name='data/0/0'), TensorSpec(shape=(32, 32, 32, 6), dtype=tf.float64, name='data/0/1'), TensorSpec(shape=(32, 32, 32, 6), dtype=tf.float64, name='data/0/2'), TensorSpec(shape=(32, 28), dtype=tf.float64, name='data/0/3')), TensorSpec(shape=(32, 32, 32, 2), dtype=tf.float64, name='data/1')), <tensorflow.python.framework.func_graph.UnknownArgument object at 0x148f1c520>), {}).\n"
     ]
    },
    {
     "name": "stderr",
     "output_type": "stream",
     "text": [
      " INFO - Unsupported signature for serialization: ((((TensorSpec(shape=(32, 32, 32, 6), dtype=tf.float64, name='data/0/0'), TensorSpec(shape=(32, 32, 32, 6), dtype=tf.float64, name='data/0/1'), TensorSpec(shape=(32, 32, 32, 6), dtype=tf.float64, name='data/0/2'), TensorSpec(shape=(32, 28), dtype=tf.float64, name='data/0/3')), TensorSpec(shape=(32, 32, 32, 2), dtype=tf.float64, name='data/1')), <tensorflow.python.framework.func_graph.UnknownArgument object at 0x148f1c520>), {}).\n",
      " WARNING - Found untraced functions such as test_step, conv2d_layer_call_fn, conv2d_layer_call_and_return_conditional_losses, _jit_compiled_convolution_op, conv2d_25_layer_call_fn while saving (showing 5 of 455). These functions will not be directly callable after loading.\n"
     ]
    },
    {
     "name": "stdout",
     "output_type": "stream",
     "text": [
      "INFO:tensorflow:Assets written to: model_logs/20230408-122535/assets\n"
     ]
    },
    {
     "name": "stderr",
     "output_type": "stream",
     "text": [
      " INFO - Assets written to: model_logs/20230408-122535/assets\n"
     ]
    },
    {
     "name": "stdout",
     "output_type": "stream",
     "text": [
      "Epoch: 35\t\n",
      "MSE_train: 0.00084, RMSE_test: 20.94550\n",
      "INFO:tensorflow:Unsupported signature for serialization: ((((TensorSpec(shape=(32, 32, 32, 6), dtype=tf.float64, name='data/0/0'), TensorSpec(shape=(32, 32, 32, 6), dtype=tf.float64, name='data/0/1'), TensorSpec(shape=(32, 32, 32, 6), dtype=tf.float64, name='data/0/2'), TensorSpec(shape=(32, 28), dtype=tf.float64, name='data/0/3')), TensorSpec(shape=(32, 32, 32, 2), dtype=tf.float64, name='data/1')), <tensorflow.python.framework.func_graph.UnknownArgument object at 0x148f1c520>), {}).\n"
     ]
    },
    {
     "name": "stderr",
     "output_type": "stream",
     "text": [
      " INFO - Unsupported signature for serialization: ((((TensorSpec(shape=(32, 32, 32, 6), dtype=tf.float64, name='data/0/0'), TensorSpec(shape=(32, 32, 32, 6), dtype=tf.float64, name='data/0/1'), TensorSpec(shape=(32, 32, 32, 6), dtype=tf.float64, name='data/0/2'), TensorSpec(shape=(32, 28), dtype=tf.float64, name='data/0/3')), TensorSpec(shape=(32, 32, 32, 2), dtype=tf.float64, name='data/1')), <tensorflow.python.framework.func_graph.UnknownArgument object at 0x148f1c520>), {}).\n"
     ]
    },
    {
     "name": "stdout",
     "output_type": "stream",
     "text": [
      "INFO:tensorflow:Unsupported signature for serialization: ((((TensorSpec(shape=(32, 32, 32, 6), dtype=tf.float64, name='data/0/0'), TensorSpec(shape=(32, 32, 32, 6), dtype=tf.float64, name='data/0/1'), TensorSpec(shape=(32, 32, 32, 6), dtype=tf.float64, name='data/0/2'), TensorSpec(shape=(32, 28), dtype=tf.float64, name='data/0/3')), TensorSpec(shape=(32, 32, 32, 2), dtype=tf.float64, name='data/1')), <tensorflow.python.framework.func_graph.UnknownArgument object at 0x148f1c520>), {}).\n"
     ]
    },
    {
     "name": "stderr",
     "output_type": "stream",
     "text": [
      " INFO - Unsupported signature for serialization: ((((TensorSpec(shape=(32, 32, 32, 6), dtype=tf.float64, name='data/0/0'), TensorSpec(shape=(32, 32, 32, 6), dtype=tf.float64, name='data/0/1'), TensorSpec(shape=(32, 32, 32, 6), dtype=tf.float64, name='data/0/2'), TensorSpec(shape=(32, 28), dtype=tf.float64, name='data/0/3')), TensorSpec(shape=(32, 32, 32, 2), dtype=tf.float64, name='data/1')), <tensorflow.python.framework.func_graph.UnknownArgument object at 0x148f1c520>), {}).\n",
      " WARNING - Found untraced functions such as test_step, conv2d_layer_call_fn, conv2d_layer_call_and_return_conditional_losses, _jit_compiled_convolution_op, conv2d_25_layer_call_fn while saving (showing 5 of 455). These functions will not be directly callable after loading.\n"
     ]
    },
    {
     "name": "stdout",
     "output_type": "stream",
     "text": [
      "INFO:tensorflow:Assets written to: model_logs/20230408-122535/assets\n"
     ]
    },
    {
     "name": "stderr",
     "output_type": "stream",
     "text": [
      " INFO - Assets written to: model_logs/20230408-122535/assets\n"
     ]
    },
    {
     "name": "stdout",
     "output_type": "stream",
     "text": [
      "Epoch: 36\t\n",
      "MSE_train: 0.00079, RMSE_test: 22.30033\n",
      "INFO:tensorflow:Unsupported signature for serialization: ((((TensorSpec(shape=(32, 32, 32, 6), dtype=tf.float64, name='data/0/0'), TensorSpec(shape=(32, 32, 32, 6), dtype=tf.float64, name='data/0/1'), TensorSpec(shape=(32, 32, 32, 6), dtype=tf.float64, name='data/0/2'), TensorSpec(shape=(32, 28), dtype=tf.float64, name='data/0/3')), TensorSpec(shape=(32, 32, 32, 2), dtype=tf.float64, name='data/1')), <tensorflow.python.framework.func_graph.UnknownArgument object at 0x148f1c520>), {}).\n"
     ]
    },
    {
     "name": "stderr",
     "output_type": "stream",
     "text": [
      " INFO - Unsupported signature for serialization: ((((TensorSpec(shape=(32, 32, 32, 6), dtype=tf.float64, name='data/0/0'), TensorSpec(shape=(32, 32, 32, 6), dtype=tf.float64, name='data/0/1'), TensorSpec(shape=(32, 32, 32, 6), dtype=tf.float64, name='data/0/2'), TensorSpec(shape=(32, 28), dtype=tf.float64, name='data/0/3')), TensorSpec(shape=(32, 32, 32, 2), dtype=tf.float64, name='data/1')), <tensorflow.python.framework.func_graph.UnknownArgument object at 0x148f1c520>), {}).\n"
     ]
    },
    {
     "name": "stdout",
     "output_type": "stream",
     "text": [
      "INFO:tensorflow:Unsupported signature for serialization: ((((TensorSpec(shape=(32, 32, 32, 6), dtype=tf.float64, name='data/0/0'), TensorSpec(shape=(32, 32, 32, 6), dtype=tf.float64, name='data/0/1'), TensorSpec(shape=(32, 32, 32, 6), dtype=tf.float64, name='data/0/2'), TensorSpec(shape=(32, 28), dtype=tf.float64, name='data/0/3')), TensorSpec(shape=(32, 32, 32, 2), dtype=tf.float64, name='data/1')), <tensorflow.python.framework.func_graph.UnknownArgument object at 0x148f1c520>), {}).\n"
     ]
    },
    {
     "name": "stderr",
     "output_type": "stream",
     "text": [
      " INFO - Unsupported signature for serialization: ((((TensorSpec(shape=(32, 32, 32, 6), dtype=tf.float64, name='data/0/0'), TensorSpec(shape=(32, 32, 32, 6), dtype=tf.float64, name='data/0/1'), TensorSpec(shape=(32, 32, 32, 6), dtype=tf.float64, name='data/0/2'), TensorSpec(shape=(32, 28), dtype=tf.float64, name='data/0/3')), TensorSpec(shape=(32, 32, 32, 2), dtype=tf.float64, name='data/1')), <tensorflow.python.framework.func_graph.UnknownArgument object at 0x148f1c520>), {}).\n",
      " WARNING - Found untraced functions such as test_step, conv2d_layer_call_fn, conv2d_layer_call_and_return_conditional_losses, _jit_compiled_convolution_op, conv2d_25_layer_call_fn while saving (showing 5 of 455). These functions will not be directly callable after loading.\n"
     ]
    },
    {
     "name": "stdout",
     "output_type": "stream",
     "text": [
      "INFO:tensorflow:Assets written to: model_logs/20230408-122535/assets\n"
     ]
    },
    {
     "name": "stderr",
     "output_type": "stream",
     "text": [
      " INFO - Assets written to: model_logs/20230408-122535/assets\n"
     ]
    },
    {
     "name": "stdout",
     "output_type": "stream",
     "text": [
      "Epoch: 37\t\n",
      "MSE_train: 0.00080, RMSE_test: 21.29138\n",
      "INFO:tensorflow:Unsupported signature for serialization: ((((TensorSpec(shape=(32, 32, 32, 6), dtype=tf.float64, name='data/0/0'), TensorSpec(shape=(32, 32, 32, 6), dtype=tf.float64, name='data/0/1'), TensorSpec(shape=(32, 32, 32, 6), dtype=tf.float64, name='data/0/2'), TensorSpec(shape=(32, 28), dtype=tf.float64, name='data/0/3')), TensorSpec(shape=(32, 32, 32, 2), dtype=tf.float64, name='data/1')), <tensorflow.python.framework.func_graph.UnknownArgument object at 0x148f1c520>), {}).\n"
     ]
    },
    {
     "name": "stderr",
     "output_type": "stream",
     "text": [
      " INFO - Unsupported signature for serialization: ((((TensorSpec(shape=(32, 32, 32, 6), dtype=tf.float64, name='data/0/0'), TensorSpec(shape=(32, 32, 32, 6), dtype=tf.float64, name='data/0/1'), TensorSpec(shape=(32, 32, 32, 6), dtype=tf.float64, name='data/0/2'), TensorSpec(shape=(32, 28), dtype=tf.float64, name='data/0/3')), TensorSpec(shape=(32, 32, 32, 2), dtype=tf.float64, name='data/1')), <tensorflow.python.framework.func_graph.UnknownArgument object at 0x148f1c520>), {}).\n"
     ]
    },
    {
     "name": "stdout",
     "output_type": "stream",
     "text": [
      "INFO:tensorflow:Unsupported signature for serialization: ((((TensorSpec(shape=(32, 32, 32, 6), dtype=tf.float64, name='data/0/0'), TensorSpec(shape=(32, 32, 32, 6), dtype=tf.float64, name='data/0/1'), TensorSpec(shape=(32, 32, 32, 6), dtype=tf.float64, name='data/0/2'), TensorSpec(shape=(32, 28), dtype=tf.float64, name='data/0/3')), TensorSpec(shape=(32, 32, 32, 2), dtype=tf.float64, name='data/1')), <tensorflow.python.framework.func_graph.UnknownArgument object at 0x148f1c520>), {}).\n"
     ]
    },
    {
     "name": "stderr",
     "output_type": "stream",
     "text": [
      " INFO - Unsupported signature for serialization: ((((TensorSpec(shape=(32, 32, 32, 6), dtype=tf.float64, name='data/0/0'), TensorSpec(shape=(32, 32, 32, 6), dtype=tf.float64, name='data/0/1'), TensorSpec(shape=(32, 32, 32, 6), dtype=tf.float64, name='data/0/2'), TensorSpec(shape=(32, 28), dtype=tf.float64, name='data/0/3')), TensorSpec(shape=(32, 32, 32, 2), dtype=tf.float64, name='data/1')), <tensorflow.python.framework.func_graph.UnknownArgument object at 0x148f1c520>), {}).\n",
      " WARNING - Found untraced functions such as test_step, conv2d_layer_call_fn, conv2d_layer_call_and_return_conditional_losses, _jit_compiled_convolution_op, conv2d_25_layer_call_fn while saving (showing 5 of 455). These functions will not be directly callable after loading.\n"
     ]
    },
    {
     "name": "stdout",
     "output_type": "stream",
     "text": [
      "INFO:tensorflow:Assets written to: model_logs/20230408-122535/assets\n"
     ]
    },
    {
     "name": "stderr",
     "output_type": "stream",
     "text": [
      " INFO - Assets written to: model_logs/20230408-122535/assets\n"
     ]
    },
    {
     "name": "stdout",
     "output_type": "stream",
     "text": [
      "Epoch: 38\t\n",
      "MSE_train: 0.00082, RMSE_test: 21.68495\n",
      "INFO:tensorflow:Unsupported signature for serialization: ((((TensorSpec(shape=(32, 32, 32, 6), dtype=tf.float64, name='data/0/0'), TensorSpec(shape=(32, 32, 32, 6), dtype=tf.float64, name='data/0/1'), TensorSpec(shape=(32, 32, 32, 6), dtype=tf.float64, name='data/0/2'), TensorSpec(shape=(32, 28), dtype=tf.float64, name='data/0/3')), TensorSpec(shape=(32, 32, 32, 2), dtype=tf.float64, name='data/1')), <tensorflow.python.framework.func_graph.UnknownArgument object at 0x148f1c520>), {}).\n"
     ]
    },
    {
     "name": "stderr",
     "output_type": "stream",
     "text": [
      " INFO - Unsupported signature for serialization: ((((TensorSpec(shape=(32, 32, 32, 6), dtype=tf.float64, name='data/0/0'), TensorSpec(shape=(32, 32, 32, 6), dtype=tf.float64, name='data/0/1'), TensorSpec(shape=(32, 32, 32, 6), dtype=tf.float64, name='data/0/2'), TensorSpec(shape=(32, 28), dtype=tf.float64, name='data/0/3')), TensorSpec(shape=(32, 32, 32, 2), dtype=tf.float64, name='data/1')), <tensorflow.python.framework.func_graph.UnknownArgument object at 0x148f1c520>), {}).\n"
     ]
    },
    {
     "name": "stdout",
     "output_type": "stream",
     "text": [
      "INFO:tensorflow:Unsupported signature for serialization: ((((TensorSpec(shape=(32, 32, 32, 6), dtype=tf.float64, name='data/0/0'), TensorSpec(shape=(32, 32, 32, 6), dtype=tf.float64, name='data/0/1'), TensorSpec(shape=(32, 32, 32, 6), dtype=tf.float64, name='data/0/2'), TensorSpec(shape=(32, 28), dtype=tf.float64, name='data/0/3')), TensorSpec(shape=(32, 32, 32, 2), dtype=tf.float64, name='data/1')), <tensorflow.python.framework.func_graph.UnknownArgument object at 0x148f1c520>), {}).\n"
     ]
    },
    {
     "name": "stderr",
     "output_type": "stream",
     "text": [
      " INFO - Unsupported signature for serialization: ((((TensorSpec(shape=(32, 32, 32, 6), dtype=tf.float64, name='data/0/0'), TensorSpec(shape=(32, 32, 32, 6), dtype=tf.float64, name='data/0/1'), TensorSpec(shape=(32, 32, 32, 6), dtype=tf.float64, name='data/0/2'), TensorSpec(shape=(32, 28), dtype=tf.float64, name='data/0/3')), TensorSpec(shape=(32, 32, 32, 2), dtype=tf.float64, name='data/1')), <tensorflow.python.framework.func_graph.UnknownArgument object at 0x148f1c520>), {}).\n",
      " WARNING - Found untraced functions such as test_step, conv2d_layer_call_fn, conv2d_layer_call_and_return_conditional_losses, _jit_compiled_convolution_op, conv2d_25_layer_call_fn while saving (showing 5 of 455). These functions will not be directly callable after loading.\n"
     ]
    },
    {
     "name": "stdout",
     "output_type": "stream",
     "text": [
      "INFO:tensorflow:Assets written to: model_logs/20230408-122535/assets\n"
     ]
    },
    {
     "name": "stderr",
     "output_type": "stream",
     "text": [
      " INFO - Assets written to: model_logs/20230408-122535/assets\n"
     ]
    },
    {
     "name": "stdout",
     "output_type": "stream",
     "text": [
      "Epoch: 39\t\n",
      "MSE_train: 0.00080, RMSE_test: 21.81368\n",
      "INFO:tensorflow:Unsupported signature for serialization: ((((TensorSpec(shape=(32, 32, 32, 6), dtype=tf.float64, name='data/0/0'), TensorSpec(shape=(32, 32, 32, 6), dtype=tf.float64, name='data/0/1'), TensorSpec(shape=(32, 32, 32, 6), dtype=tf.float64, name='data/0/2'), TensorSpec(shape=(32, 28), dtype=tf.float64, name='data/0/3')), TensorSpec(shape=(32, 32, 32, 2), dtype=tf.float64, name='data/1')), <tensorflow.python.framework.func_graph.UnknownArgument object at 0x148f1c520>), {}).\n"
     ]
    },
    {
     "name": "stderr",
     "output_type": "stream",
     "text": [
      " INFO - Unsupported signature for serialization: ((((TensorSpec(shape=(32, 32, 32, 6), dtype=tf.float64, name='data/0/0'), TensorSpec(shape=(32, 32, 32, 6), dtype=tf.float64, name='data/0/1'), TensorSpec(shape=(32, 32, 32, 6), dtype=tf.float64, name='data/0/2'), TensorSpec(shape=(32, 28), dtype=tf.float64, name='data/0/3')), TensorSpec(shape=(32, 32, 32, 2), dtype=tf.float64, name='data/1')), <tensorflow.python.framework.func_graph.UnknownArgument object at 0x148f1c520>), {}).\n"
     ]
    },
    {
     "name": "stdout",
     "output_type": "stream",
     "text": [
      "INFO:tensorflow:Unsupported signature for serialization: ((((TensorSpec(shape=(32, 32, 32, 6), dtype=tf.float64, name='data/0/0'), TensorSpec(shape=(32, 32, 32, 6), dtype=tf.float64, name='data/0/1'), TensorSpec(shape=(32, 32, 32, 6), dtype=tf.float64, name='data/0/2'), TensorSpec(shape=(32, 28), dtype=tf.float64, name='data/0/3')), TensorSpec(shape=(32, 32, 32, 2), dtype=tf.float64, name='data/1')), <tensorflow.python.framework.func_graph.UnknownArgument object at 0x148f1c520>), {}).\n"
     ]
    },
    {
     "name": "stderr",
     "output_type": "stream",
     "text": [
      " INFO - Unsupported signature for serialization: ((((TensorSpec(shape=(32, 32, 32, 6), dtype=tf.float64, name='data/0/0'), TensorSpec(shape=(32, 32, 32, 6), dtype=tf.float64, name='data/0/1'), TensorSpec(shape=(32, 32, 32, 6), dtype=tf.float64, name='data/0/2'), TensorSpec(shape=(32, 28), dtype=tf.float64, name='data/0/3')), TensorSpec(shape=(32, 32, 32, 2), dtype=tf.float64, name='data/1')), <tensorflow.python.framework.func_graph.UnknownArgument object at 0x148f1c520>), {}).\n",
      " WARNING - Found untraced functions such as test_step, conv2d_layer_call_fn, conv2d_layer_call_and_return_conditional_losses, _jit_compiled_convolution_op, conv2d_25_layer_call_fn while saving (showing 5 of 455). These functions will not be directly callable after loading.\n"
     ]
    },
    {
     "name": "stdout",
     "output_type": "stream",
     "text": [
      "INFO:tensorflow:Assets written to: model_logs/20230408-122535/assets\n"
     ]
    },
    {
     "name": "stderr",
     "output_type": "stream",
     "text": [
      " INFO - Assets written to: model_logs/20230408-122535/assets\n"
     ]
    },
    {
     "name": "stdout",
     "output_type": "stream",
     "text": [
      "Epoch: 40\t\n",
      "MSE_train: 0.00079, RMSE_test: 20.88240\n",
      "INFO:tensorflow:Unsupported signature for serialization: ((((TensorSpec(shape=(32, 32, 32, 6), dtype=tf.float64, name='data/0/0'), TensorSpec(shape=(32, 32, 32, 6), dtype=tf.float64, name='data/0/1'), TensorSpec(shape=(32, 32, 32, 6), dtype=tf.float64, name='data/0/2'), TensorSpec(shape=(32, 28), dtype=tf.float64, name='data/0/3')), TensorSpec(shape=(32, 32, 32, 2), dtype=tf.float64, name='data/1')), <tensorflow.python.framework.func_graph.UnknownArgument object at 0x148f1c520>), {}).\n"
     ]
    },
    {
     "name": "stderr",
     "output_type": "stream",
     "text": [
      " INFO - Unsupported signature for serialization: ((((TensorSpec(shape=(32, 32, 32, 6), dtype=tf.float64, name='data/0/0'), TensorSpec(shape=(32, 32, 32, 6), dtype=tf.float64, name='data/0/1'), TensorSpec(shape=(32, 32, 32, 6), dtype=tf.float64, name='data/0/2'), TensorSpec(shape=(32, 28), dtype=tf.float64, name='data/0/3')), TensorSpec(shape=(32, 32, 32, 2), dtype=tf.float64, name='data/1')), <tensorflow.python.framework.func_graph.UnknownArgument object at 0x148f1c520>), {}).\n"
     ]
    },
    {
     "name": "stdout",
     "output_type": "stream",
     "text": [
      "INFO:tensorflow:Unsupported signature for serialization: ((((TensorSpec(shape=(32, 32, 32, 6), dtype=tf.float64, name='data/0/0'), TensorSpec(shape=(32, 32, 32, 6), dtype=tf.float64, name='data/0/1'), TensorSpec(shape=(32, 32, 32, 6), dtype=tf.float64, name='data/0/2'), TensorSpec(shape=(32, 28), dtype=tf.float64, name='data/0/3')), TensorSpec(shape=(32, 32, 32, 2), dtype=tf.float64, name='data/1')), <tensorflow.python.framework.func_graph.UnknownArgument object at 0x148f1c520>), {}).\n"
     ]
    },
    {
     "name": "stderr",
     "output_type": "stream",
     "text": [
      " INFO - Unsupported signature for serialization: ((((TensorSpec(shape=(32, 32, 32, 6), dtype=tf.float64, name='data/0/0'), TensorSpec(shape=(32, 32, 32, 6), dtype=tf.float64, name='data/0/1'), TensorSpec(shape=(32, 32, 32, 6), dtype=tf.float64, name='data/0/2'), TensorSpec(shape=(32, 28), dtype=tf.float64, name='data/0/3')), TensorSpec(shape=(32, 32, 32, 2), dtype=tf.float64, name='data/1')), <tensorflow.python.framework.func_graph.UnknownArgument object at 0x148f1c520>), {}).\n",
      " WARNING - Found untraced functions such as test_step, conv2d_layer_call_fn, conv2d_layer_call_and_return_conditional_losses, _jit_compiled_convolution_op, conv2d_25_layer_call_fn while saving (showing 5 of 455). These functions will not be directly callable after loading.\n"
     ]
    },
    {
     "name": "stdout",
     "output_type": "stream",
     "text": [
      "INFO:tensorflow:Assets written to: model_logs/20230408-122535/assets\n"
     ]
    },
    {
     "name": "stderr",
     "output_type": "stream",
     "text": [
      " INFO - Assets written to: model_logs/20230408-122535/assets\n"
     ]
    },
    {
     "name": "stdout",
     "output_type": "stream",
     "text": [
      "Epoch: 41\t\n",
      "MSE_train: 0.00081, RMSE_test: 25.00120\n",
      "INFO:tensorflow:Unsupported signature for serialization: ((((TensorSpec(shape=(32, 32, 32, 6), dtype=tf.float64, name='data/0/0'), TensorSpec(shape=(32, 32, 32, 6), dtype=tf.float64, name='data/0/1'), TensorSpec(shape=(32, 32, 32, 6), dtype=tf.float64, name='data/0/2'), TensorSpec(shape=(32, 28), dtype=tf.float64, name='data/0/3')), TensorSpec(shape=(32, 32, 32, 2), dtype=tf.float64, name='data/1')), <tensorflow.python.framework.func_graph.UnknownArgument object at 0x148f1c520>), {}).\n"
     ]
    },
    {
     "name": "stderr",
     "output_type": "stream",
     "text": [
      " INFO - Unsupported signature for serialization: ((((TensorSpec(shape=(32, 32, 32, 6), dtype=tf.float64, name='data/0/0'), TensorSpec(shape=(32, 32, 32, 6), dtype=tf.float64, name='data/0/1'), TensorSpec(shape=(32, 32, 32, 6), dtype=tf.float64, name='data/0/2'), TensorSpec(shape=(32, 28), dtype=tf.float64, name='data/0/3')), TensorSpec(shape=(32, 32, 32, 2), dtype=tf.float64, name='data/1')), <tensorflow.python.framework.func_graph.UnknownArgument object at 0x148f1c520>), {}).\n"
     ]
    },
    {
     "name": "stdout",
     "output_type": "stream",
     "text": [
      "INFO:tensorflow:Unsupported signature for serialization: ((((TensorSpec(shape=(32, 32, 32, 6), dtype=tf.float64, name='data/0/0'), TensorSpec(shape=(32, 32, 32, 6), dtype=tf.float64, name='data/0/1'), TensorSpec(shape=(32, 32, 32, 6), dtype=tf.float64, name='data/0/2'), TensorSpec(shape=(32, 28), dtype=tf.float64, name='data/0/3')), TensorSpec(shape=(32, 32, 32, 2), dtype=tf.float64, name='data/1')), <tensorflow.python.framework.func_graph.UnknownArgument object at 0x148f1c520>), {}).\n"
     ]
    },
    {
     "name": "stderr",
     "output_type": "stream",
     "text": [
      " INFO - Unsupported signature for serialization: ((((TensorSpec(shape=(32, 32, 32, 6), dtype=tf.float64, name='data/0/0'), TensorSpec(shape=(32, 32, 32, 6), dtype=tf.float64, name='data/0/1'), TensorSpec(shape=(32, 32, 32, 6), dtype=tf.float64, name='data/0/2'), TensorSpec(shape=(32, 28), dtype=tf.float64, name='data/0/3')), TensorSpec(shape=(32, 32, 32, 2), dtype=tf.float64, name='data/1')), <tensorflow.python.framework.func_graph.UnknownArgument object at 0x148f1c520>), {}).\n",
      " WARNING - Found untraced functions such as test_step, conv2d_layer_call_fn, conv2d_layer_call_and_return_conditional_losses, _jit_compiled_convolution_op, conv2d_25_layer_call_fn while saving (showing 5 of 455). These functions will not be directly callable after loading.\n"
     ]
    },
    {
     "name": "stdout",
     "output_type": "stream",
     "text": [
      "INFO:tensorflow:Assets written to: model_logs/20230408-122535/assets\n"
     ]
    },
    {
     "name": "stderr",
     "output_type": "stream",
     "text": [
      " INFO - Assets written to: model_logs/20230408-122535/assets\n"
     ]
    },
    {
     "name": "stdout",
     "output_type": "stream",
     "text": [
      "Epoch: 42\t\n",
      "MSE_train: 0.00080, RMSE_test: 21.63467\n",
      "INFO:tensorflow:Unsupported signature for serialization: ((((TensorSpec(shape=(32, 32, 32, 6), dtype=tf.float64, name='data/0/0'), TensorSpec(shape=(32, 32, 32, 6), dtype=tf.float64, name='data/0/1'), TensorSpec(shape=(32, 32, 32, 6), dtype=tf.float64, name='data/0/2'), TensorSpec(shape=(32, 28), dtype=tf.float64, name='data/0/3')), TensorSpec(shape=(32, 32, 32, 2), dtype=tf.float64, name='data/1')), <tensorflow.python.framework.func_graph.UnknownArgument object at 0x148f1c520>), {}).\n"
     ]
    },
    {
     "name": "stderr",
     "output_type": "stream",
     "text": [
      " INFO - Unsupported signature for serialization: ((((TensorSpec(shape=(32, 32, 32, 6), dtype=tf.float64, name='data/0/0'), TensorSpec(shape=(32, 32, 32, 6), dtype=tf.float64, name='data/0/1'), TensorSpec(shape=(32, 32, 32, 6), dtype=tf.float64, name='data/0/2'), TensorSpec(shape=(32, 28), dtype=tf.float64, name='data/0/3')), TensorSpec(shape=(32, 32, 32, 2), dtype=tf.float64, name='data/1')), <tensorflow.python.framework.func_graph.UnknownArgument object at 0x148f1c520>), {}).\n"
     ]
    },
    {
     "name": "stdout",
     "output_type": "stream",
     "text": [
      "INFO:tensorflow:Unsupported signature for serialization: ((((TensorSpec(shape=(32, 32, 32, 6), dtype=tf.float64, name='data/0/0'), TensorSpec(shape=(32, 32, 32, 6), dtype=tf.float64, name='data/0/1'), TensorSpec(shape=(32, 32, 32, 6), dtype=tf.float64, name='data/0/2'), TensorSpec(shape=(32, 28), dtype=tf.float64, name='data/0/3')), TensorSpec(shape=(32, 32, 32, 2), dtype=tf.float64, name='data/1')), <tensorflow.python.framework.func_graph.UnknownArgument object at 0x148f1c520>), {}).\n"
     ]
    },
    {
     "name": "stderr",
     "output_type": "stream",
     "text": [
      " INFO - Unsupported signature for serialization: ((((TensorSpec(shape=(32, 32, 32, 6), dtype=tf.float64, name='data/0/0'), TensorSpec(shape=(32, 32, 32, 6), dtype=tf.float64, name='data/0/1'), TensorSpec(shape=(32, 32, 32, 6), dtype=tf.float64, name='data/0/2'), TensorSpec(shape=(32, 28), dtype=tf.float64, name='data/0/3')), TensorSpec(shape=(32, 32, 32, 2), dtype=tf.float64, name='data/1')), <tensorflow.python.framework.func_graph.UnknownArgument object at 0x148f1c520>), {}).\n",
      " WARNING - Found untraced functions such as test_step, conv2d_layer_call_fn, conv2d_layer_call_and_return_conditional_losses, _jit_compiled_convolution_op, conv2d_25_layer_call_fn while saving (showing 5 of 455). These functions will not be directly callable after loading.\n"
     ]
    },
    {
     "name": "stdout",
     "output_type": "stream",
     "text": [
      "INFO:tensorflow:Assets written to: model_logs/20230408-122535/assets\n"
     ]
    },
    {
     "name": "stderr",
     "output_type": "stream",
     "text": [
      " INFO - Assets written to: model_logs/20230408-122535/assets\n"
     ]
    },
    {
     "name": "stdout",
     "output_type": "stream",
     "text": [
      "Epoch: 43\t\n",
      "MSE_train: 0.00077, RMSE_test: 20.47792\n",
      "INFO:tensorflow:Unsupported signature for serialization: ((((TensorSpec(shape=(32, 32, 32, 6), dtype=tf.float64, name='data/0/0'), TensorSpec(shape=(32, 32, 32, 6), dtype=tf.float64, name='data/0/1'), TensorSpec(shape=(32, 32, 32, 6), dtype=tf.float64, name='data/0/2'), TensorSpec(shape=(32, 28), dtype=tf.float64, name='data/0/3')), TensorSpec(shape=(32, 32, 32, 2), dtype=tf.float64, name='data/1')), <tensorflow.python.framework.func_graph.UnknownArgument object at 0x148f1c520>), {}).\n"
     ]
    },
    {
     "name": "stderr",
     "output_type": "stream",
     "text": [
      " INFO - Unsupported signature for serialization: ((((TensorSpec(shape=(32, 32, 32, 6), dtype=tf.float64, name='data/0/0'), TensorSpec(shape=(32, 32, 32, 6), dtype=tf.float64, name='data/0/1'), TensorSpec(shape=(32, 32, 32, 6), dtype=tf.float64, name='data/0/2'), TensorSpec(shape=(32, 28), dtype=tf.float64, name='data/0/3')), TensorSpec(shape=(32, 32, 32, 2), dtype=tf.float64, name='data/1')), <tensorflow.python.framework.func_graph.UnknownArgument object at 0x148f1c520>), {}).\n"
     ]
    },
    {
     "name": "stdout",
     "output_type": "stream",
     "text": [
      "INFO:tensorflow:Unsupported signature for serialization: ((((TensorSpec(shape=(32, 32, 32, 6), dtype=tf.float64, name='data/0/0'), TensorSpec(shape=(32, 32, 32, 6), dtype=tf.float64, name='data/0/1'), TensorSpec(shape=(32, 32, 32, 6), dtype=tf.float64, name='data/0/2'), TensorSpec(shape=(32, 28), dtype=tf.float64, name='data/0/3')), TensorSpec(shape=(32, 32, 32, 2), dtype=tf.float64, name='data/1')), <tensorflow.python.framework.func_graph.UnknownArgument object at 0x148f1c520>), {}).\n"
     ]
    },
    {
     "name": "stderr",
     "output_type": "stream",
     "text": [
      " INFO - Unsupported signature for serialization: ((((TensorSpec(shape=(32, 32, 32, 6), dtype=tf.float64, name='data/0/0'), TensorSpec(shape=(32, 32, 32, 6), dtype=tf.float64, name='data/0/1'), TensorSpec(shape=(32, 32, 32, 6), dtype=tf.float64, name='data/0/2'), TensorSpec(shape=(32, 28), dtype=tf.float64, name='data/0/3')), TensorSpec(shape=(32, 32, 32, 2), dtype=tf.float64, name='data/1')), <tensorflow.python.framework.func_graph.UnknownArgument object at 0x148f1c520>), {}).\n",
      " WARNING - Found untraced functions such as test_step, conv2d_layer_call_fn, conv2d_layer_call_and_return_conditional_losses, _jit_compiled_convolution_op, conv2d_25_layer_call_fn while saving (showing 5 of 455). These functions will not be directly callable after loading.\n"
     ]
    },
    {
     "name": "stdout",
     "output_type": "stream",
     "text": [
      "INFO:tensorflow:Assets written to: model_logs/20230408-122535/assets\n"
     ]
    },
    {
     "name": "stderr",
     "output_type": "stream",
     "text": [
      " INFO - Assets written to: model_logs/20230408-122535/assets\n"
     ]
    },
    {
     "name": "stdout",
     "output_type": "stream",
     "text": [
      "Epoch: 44\t\n",
      "MSE_train: 0.00077, RMSE_test: 21.34190\n",
      "INFO:tensorflow:Unsupported signature for serialization: ((((TensorSpec(shape=(32, 32, 32, 6), dtype=tf.float64, name='data/0/0'), TensorSpec(shape=(32, 32, 32, 6), dtype=tf.float64, name='data/0/1'), TensorSpec(shape=(32, 32, 32, 6), dtype=tf.float64, name='data/0/2'), TensorSpec(shape=(32, 28), dtype=tf.float64, name='data/0/3')), TensorSpec(shape=(32, 32, 32, 2), dtype=tf.float64, name='data/1')), <tensorflow.python.framework.func_graph.UnknownArgument object at 0x148f1c520>), {}).\n"
     ]
    },
    {
     "name": "stderr",
     "output_type": "stream",
     "text": [
      " INFO - Unsupported signature for serialization: ((((TensorSpec(shape=(32, 32, 32, 6), dtype=tf.float64, name='data/0/0'), TensorSpec(shape=(32, 32, 32, 6), dtype=tf.float64, name='data/0/1'), TensorSpec(shape=(32, 32, 32, 6), dtype=tf.float64, name='data/0/2'), TensorSpec(shape=(32, 28), dtype=tf.float64, name='data/0/3')), TensorSpec(shape=(32, 32, 32, 2), dtype=tf.float64, name='data/1')), <tensorflow.python.framework.func_graph.UnknownArgument object at 0x148f1c520>), {}).\n"
     ]
    },
    {
     "name": "stdout",
     "output_type": "stream",
     "text": [
      "INFO:tensorflow:Unsupported signature for serialization: ((((TensorSpec(shape=(32, 32, 32, 6), dtype=tf.float64, name='data/0/0'), TensorSpec(shape=(32, 32, 32, 6), dtype=tf.float64, name='data/0/1'), TensorSpec(shape=(32, 32, 32, 6), dtype=tf.float64, name='data/0/2'), TensorSpec(shape=(32, 28), dtype=tf.float64, name='data/0/3')), TensorSpec(shape=(32, 32, 32, 2), dtype=tf.float64, name='data/1')), <tensorflow.python.framework.func_graph.UnknownArgument object at 0x148f1c520>), {}).\n"
     ]
    },
    {
     "name": "stderr",
     "output_type": "stream",
     "text": [
      " INFO - Unsupported signature for serialization: ((((TensorSpec(shape=(32, 32, 32, 6), dtype=tf.float64, name='data/0/0'), TensorSpec(shape=(32, 32, 32, 6), dtype=tf.float64, name='data/0/1'), TensorSpec(shape=(32, 32, 32, 6), dtype=tf.float64, name='data/0/2'), TensorSpec(shape=(32, 28), dtype=tf.float64, name='data/0/3')), TensorSpec(shape=(32, 32, 32, 2), dtype=tf.float64, name='data/1')), <tensorflow.python.framework.func_graph.UnknownArgument object at 0x148f1c520>), {}).\n",
      " WARNING - Found untraced functions such as test_step, conv2d_layer_call_fn, conv2d_layer_call_and_return_conditional_losses, _jit_compiled_convolution_op, conv2d_25_layer_call_fn while saving (showing 5 of 455). These functions will not be directly callable after loading.\n"
     ]
    },
    {
     "name": "stdout",
     "output_type": "stream",
     "text": [
      "INFO:tensorflow:Assets written to: model_logs/20230408-122535/assets\n"
     ]
    },
    {
     "name": "stderr",
     "output_type": "stream",
     "text": [
      " INFO - Assets written to: model_logs/20230408-122535/assets\n"
     ]
    },
    {
     "name": "stdout",
     "output_type": "stream",
     "text": [
      "Epoch: 45\t\n",
      "MSE_train: 0.00084, RMSE_test: 22.94000\n",
      "INFO:tensorflow:Unsupported signature for serialization: ((((TensorSpec(shape=(32, 32, 32, 6), dtype=tf.float64, name='data/0/0'), TensorSpec(shape=(32, 32, 32, 6), dtype=tf.float64, name='data/0/1'), TensorSpec(shape=(32, 32, 32, 6), dtype=tf.float64, name='data/0/2'), TensorSpec(shape=(32, 28), dtype=tf.float64, name='data/0/3')), TensorSpec(shape=(32, 32, 32, 2), dtype=tf.float64, name='data/1')), <tensorflow.python.framework.func_graph.UnknownArgument object at 0x148f1c520>), {}).\n"
     ]
    },
    {
     "name": "stderr",
     "output_type": "stream",
     "text": [
      " INFO - Unsupported signature for serialization: ((((TensorSpec(shape=(32, 32, 32, 6), dtype=tf.float64, name='data/0/0'), TensorSpec(shape=(32, 32, 32, 6), dtype=tf.float64, name='data/0/1'), TensorSpec(shape=(32, 32, 32, 6), dtype=tf.float64, name='data/0/2'), TensorSpec(shape=(32, 28), dtype=tf.float64, name='data/0/3')), TensorSpec(shape=(32, 32, 32, 2), dtype=tf.float64, name='data/1')), <tensorflow.python.framework.func_graph.UnknownArgument object at 0x148f1c520>), {}).\n"
     ]
    },
    {
     "name": "stdout",
     "output_type": "stream",
     "text": [
      "INFO:tensorflow:Unsupported signature for serialization: ((((TensorSpec(shape=(32, 32, 32, 6), dtype=tf.float64, name='data/0/0'), TensorSpec(shape=(32, 32, 32, 6), dtype=tf.float64, name='data/0/1'), TensorSpec(shape=(32, 32, 32, 6), dtype=tf.float64, name='data/0/2'), TensorSpec(shape=(32, 28), dtype=tf.float64, name='data/0/3')), TensorSpec(shape=(32, 32, 32, 2), dtype=tf.float64, name='data/1')), <tensorflow.python.framework.func_graph.UnknownArgument object at 0x148f1c520>), {}).\n"
     ]
    },
    {
     "name": "stderr",
     "output_type": "stream",
     "text": [
      " INFO - Unsupported signature for serialization: ((((TensorSpec(shape=(32, 32, 32, 6), dtype=tf.float64, name='data/0/0'), TensorSpec(shape=(32, 32, 32, 6), dtype=tf.float64, name='data/0/1'), TensorSpec(shape=(32, 32, 32, 6), dtype=tf.float64, name='data/0/2'), TensorSpec(shape=(32, 28), dtype=tf.float64, name='data/0/3')), TensorSpec(shape=(32, 32, 32, 2), dtype=tf.float64, name='data/1')), <tensorflow.python.framework.func_graph.UnknownArgument object at 0x148f1c520>), {}).\n",
      " WARNING - Found untraced functions such as test_step, conv2d_layer_call_fn, conv2d_layer_call_and_return_conditional_losses, _jit_compiled_convolution_op, conv2d_25_layer_call_fn while saving (showing 5 of 455). These functions will not be directly callable after loading.\n"
     ]
    },
    {
     "name": "stdout",
     "output_type": "stream",
     "text": [
      "INFO:tensorflow:Assets written to: model_logs/20230408-122535/assets\n"
     ]
    },
    {
     "name": "stderr",
     "output_type": "stream",
     "text": [
      " INFO - Assets written to: model_logs/20230408-122535/assets\n"
     ]
    },
    {
     "name": "stdout",
     "output_type": "stream",
     "text": [
      "Epoch: 46\t\n",
      "MSE_train: 0.00081, RMSE_test: 20.51975\n",
      "INFO:tensorflow:Unsupported signature for serialization: ((((TensorSpec(shape=(32, 32, 32, 6), dtype=tf.float64, name='data/0/0'), TensorSpec(shape=(32, 32, 32, 6), dtype=tf.float64, name='data/0/1'), TensorSpec(shape=(32, 32, 32, 6), dtype=tf.float64, name='data/0/2'), TensorSpec(shape=(32, 28), dtype=tf.float64, name='data/0/3')), TensorSpec(shape=(32, 32, 32, 2), dtype=tf.float64, name='data/1')), <tensorflow.python.framework.func_graph.UnknownArgument object at 0x148f1c520>), {}).\n"
     ]
    },
    {
     "name": "stderr",
     "output_type": "stream",
     "text": [
      " INFO - Unsupported signature for serialization: ((((TensorSpec(shape=(32, 32, 32, 6), dtype=tf.float64, name='data/0/0'), TensorSpec(shape=(32, 32, 32, 6), dtype=tf.float64, name='data/0/1'), TensorSpec(shape=(32, 32, 32, 6), dtype=tf.float64, name='data/0/2'), TensorSpec(shape=(32, 28), dtype=tf.float64, name='data/0/3')), TensorSpec(shape=(32, 32, 32, 2), dtype=tf.float64, name='data/1')), <tensorflow.python.framework.func_graph.UnknownArgument object at 0x148f1c520>), {}).\n"
     ]
    },
    {
     "name": "stdout",
     "output_type": "stream",
     "text": [
      "INFO:tensorflow:Unsupported signature for serialization: ((((TensorSpec(shape=(32, 32, 32, 6), dtype=tf.float64, name='data/0/0'), TensorSpec(shape=(32, 32, 32, 6), dtype=tf.float64, name='data/0/1'), TensorSpec(shape=(32, 32, 32, 6), dtype=tf.float64, name='data/0/2'), TensorSpec(shape=(32, 28), dtype=tf.float64, name='data/0/3')), TensorSpec(shape=(32, 32, 32, 2), dtype=tf.float64, name='data/1')), <tensorflow.python.framework.func_graph.UnknownArgument object at 0x148f1c520>), {}).\n"
     ]
    },
    {
     "name": "stderr",
     "output_type": "stream",
     "text": [
      " INFO - Unsupported signature for serialization: ((((TensorSpec(shape=(32, 32, 32, 6), dtype=tf.float64, name='data/0/0'), TensorSpec(shape=(32, 32, 32, 6), dtype=tf.float64, name='data/0/1'), TensorSpec(shape=(32, 32, 32, 6), dtype=tf.float64, name='data/0/2'), TensorSpec(shape=(32, 28), dtype=tf.float64, name='data/0/3')), TensorSpec(shape=(32, 32, 32, 2), dtype=tf.float64, name='data/1')), <tensorflow.python.framework.func_graph.UnknownArgument object at 0x148f1c520>), {}).\n",
      " WARNING - Found untraced functions such as test_step, conv2d_layer_call_fn, conv2d_layer_call_and_return_conditional_losses, _jit_compiled_convolution_op, conv2d_25_layer_call_fn while saving (showing 5 of 455). These functions will not be directly callable after loading.\n"
     ]
    },
    {
     "name": "stdout",
     "output_type": "stream",
     "text": [
      "INFO:tensorflow:Assets written to: model_logs/20230408-122535/assets\n"
     ]
    },
    {
     "name": "stderr",
     "output_type": "stream",
     "text": [
      " INFO - Assets written to: model_logs/20230408-122535/assets\n"
     ]
    },
    {
     "name": "stdout",
     "output_type": "stream",
     "text": [
      "Epoch: 47\t\n",
      "MSE_train: 0.00076, RMSE_test: 20.19635\n",
      "INFO:tensorflow:Unsupported signature for serialization: ((((TensorSpec(shape=(32, 32, 32, 6), dtype=tf.float64, name='data/0/0'), TensorSpec(shape=(32, 32, 32, 6), dtype=tf.float64, name='data/0/1'), TensorSpec(shape=(32, 32, 32, 6), dtype=tf.float64, name='data/0/2'), TensorSpec(shape=(32, 28), dtype=tf.float64, name='data/0/3')), TensorSpec(shape=(32, 32, 32, 2), dtype=tf.float64, name='data/1')), <tensorflow.python.framework.func_graph.UnknownArgument object at 0x148f1c520>), {}).\n"
     ]
    },
    {
     "name": "stderr",
     "output_type": "stream",
     "text": [
      " INFO - Unsupported signature for serialization: ((((TensorSpec(shape=(32, 32, 32, 6), dtype=tf.float64, name='data/0/0'), TensorSpec(shape=(32, 32, 32, 6), dtype=tf.float64, name='data/0/1'), TensorSpec(shape=(32, 32, 32, 6), dtype=tf.float64, name='data/0/2'), TensorSpec(shape=(32, 28), dtype=tf.float64, name='data/0/3')), TensorSpec(shape=(32, 32, 32, 2), dtype=tf.float64, name='data/1')), <tensorflow.python.framework.func_graph.UnknownArgument object at 0x148f1c520>), {}).\n"
     ]
    },
    {
     "name": "stdout",
     "output_type": "stream",
     "text": [
      "INFO:tensorflow:Unsupported signature for serialization: ((((TensorSpec(shape=(32, 32, 32, 6), dtype=tf.float64, name='data/0/0'), TensorSpec(shape=(32, 32, 32, 6), dtype=tf.float64, name='data/0/1'), TensorSpec(shape=(32, 32, 32, 6), dtype=tf.float64, name='data/0/2'), TensorSpec(shape=(32, 28), dtype=tf.float64, name='data/0/3')), TensorSpec(shape=(32, 32, 32, 2), dtype=tf.float64, name='data/1')), <tensorflow.python.framework.func_graph.UnknownArgument object at 0x148f1c520>), {}).\n"
     ]
    },
    {
     "name": "stderr",
     "output_type": "stream",
     "text": [
      " INFO - Unsupported signature for serialization: ((((TensorSpec(shape=(32, 32, 32, 6), dtype=tf.float64, name='data/0/0'), TensorSpec(shape=(32, 32, 32, 6), dtype=tf.float64, name='data/0/1'), TensorSpec(shape=(32, 32, 32, 6), dtype=tf.float64, name='data/0/2'), TensorSpec(shape=(32, 28), dtype=tf.float64, name='data/0/3')), TensorSpec(shape=(32, 32, 32, 2), dtype=tf.float64, name='data/1')), <tensorflow.python.framework.func_graph.UnknownArgument object at 0x148f1c520>), {}).\n",
      " WARNING - Found untraced functions such as test_step, conv2d_layer_call_fn, conv2d_layer_call_and_return_conditional_losses, _jit_compiled_convolution_op, conv2d_25_layer_call_fn while saving (showing 5 of 455). These functions will not be directly callable after loading.\n"
     ]
    },
    {
     "name": "stdout",
     "output_type": "stream",
     "text": [
      "INFO:tensorflow:Assets written to: model_logs/20230408-122535/assets\n"
     ]
    },
    {
     "name": "stderr",
     "output_type": "stream",
     "text": [
      " INFO - Assets written to: model_logs/20230408-122535/assets\n"
     ]
    },
    {
     "name": "stdout",
     "output_type": "stream",
     "text": [
      "Epoch: 48\t\n",
      "MSE_train: 0.00076, RMSE_test: 20.63125\n",
      "INFO:tensorflow:Unsupported signature for serialization: ((((TensorSpec(shape=(32, 32, 32, 6), dtype=tf.float64, name='data/0/0'), TensorSpec(shape=(32, 32, 32, 6), dtype=tf.float64, name='data/0/1'), TensorSpec(shape=(32, 32, 32, 6), dtype=tf.float64, name='data/0/2'), TensorSpec(shape=(32, 28), dtype=tf.float64, name='data/0/3')), TensorSpec(shape=(32, 32, 32, 2), dtype=tf.float64, name='data/1')), <tensorflow.python.framework.func_graph.UnknownArgument object at 0x148f1c520>), {}).\n"
     ]
    },
    {
     "name": "stderr",
     "output_type": "stream",
     "text": [
      " INFO - Unsupported signature for serialization: ((((TensorSpec(shape=(32, 32, 32, 6), dtype=tf.float64, name='data/0/0'), TensorSpec(shape=(32, 32, 32, 6), dtype=tf.float64, name='data/0/1'), TensorSpec(shape=(32, 32, 32, 6), dtype=tf.float64, name='data/0/2'), TensorSpec(shape=(32, 28), dtype=tf.float64, name='data/0/3')), TensorSpec(shape=(32, 32, 32, 2), dtype=tf.float64, name='data/1')), <tensorflow.python.framework.func_graph.UnknownArgument object at 0x148f1c520>), {}).\n"
     ]
    },
    {
     "name": "stdout",
     "output_type": "stream",
     "text": [
      "INFO:tensorflow:Unsupported signature for serialization: ((((TensorSpec(shape=(32, 32, 32, 6), dtype=tf.float64, name='data/0/0'), TensorSpec(shape=(32, 32, 32, 6), dtype=tf.float64, name='data/0/1'), TensorSpec(shape=(32, 32, 32, 6), dtype=tf.float64, name='data/0/2'), TensorSpec(shape=(32, 28), dtype=tf.float64, name='data/0/3')), TensorSpec(shape=(32, 32, 32, 2), dtype=tf.float64, name='data/1')), <tensorflow.python.framework.func_graph.UnknownArgument object at 0x148f1c520>), {}).\n"
     ]
    },
    {
     "name": "stderr",
     "output_type": "stream",
     "text": [
      " INFO - Unsupported signature for serialization: ((((TensorSpec(shape=(32, 32, 32, 6), dtype=tf.float64, name='data/0/0'), TensorSpec(shape=(32, 32, 32, 6), dtype=tf.float64, name='data/0/1'), TensorSpec(shape=(32, 32, 32, 6), dtype=tf.float64, name='data/0/2'), TensorSpec(shape=(32, 28), dtype=tf.float64, name='data/0/3')), TensorSpec(shape=(32, 32, 32, 2), dtype=tf.float64, name='data/1')), <tensorflow.python.framework.func_graph.UnknownArgument object at 0x148f1c520>), {}).\n",
      " WARNING - Found untraced functions such as test_step, conv2d_layer_call_fn, conv2d_layer_call_and_return_conditional_losses, _jit_compiled_convolution_op, conv2d_25_layer_call_fn while saving (showing 5 of 455). These functions will not be directly callable after loading.\n"
     ]
    },
    {
     "name": "stdout",
     "output_type": "stream",
     "text": [
      "INFO:tensorflow:Assets written to: model_logs/20230408-122535/assets\n"
     ]
    },
    {
     "name": "stderr",
     "output_type": "stream",
     "text": [
      " INFO - Assets written to: model_logs/20230408-122535/assets\n"
     ]
    },
    {
     "name": "stdout",
     "output_type": "stream",
     "text": [
      "Epoch: 49\t\n",
      "MSE_train: 0.00078, RMSE_test: 20.84970\n",
      "INFO:tensorflow:Unsupported signature for serialization: ((((TensorSpec(shape=(32, 32, 32, 6), dtype=tf.float64, name='data/0/0'), TensorSpec(shape=(32, 32, 32, 6), dtype=tf.float64, name='data/0/1'), TensorSpec(shape=(32, 32, 32, 6), dtype=tf.float64, name='data/0/2'), TensorSpec(shape=(32, 28), dtype=tf.float64, name='data/0/3')), TensorSpec(shape=(32, 32, 32, 2), dtype=tf.float64, name='data/1')), <tensorflow.python.framework.func_graph.UnknownArgument object at 0x148f1c520>), {}).\n"
     ]
    },
    {
     "name": "stderr",
     "output_type": "stream",
     "text": [
      " INFO - Unsupported signature for serialization: ((((TensorSpec(shape=(32, 32, 32, 6), dtype=tf.float64, name='data/0/0'), TensorSpec(shape=(32, 32, 32, 6), dtype=tf.float64, name='data/0/1'), TensorSpec(shape=(32, 32, 32, 6), dtype=tf.float64, name='data/0/2'), TensorSpec(shape=(32, 28), dtype=tf.float64, name='data/0/3')), TensorSpec(shape=(32, 32, 32, 2), dtype=tf.float64, name='data/1')), <tensorflow.python.framework.func_graph.UnknownArgument object at 0x148f1c520>), {}).\n"
     ]
    },
    {
     "name": "stdout",
     "output_type": "stream",
     "text": [
      "INFO:tensorflow:Unsupported signature for serialization: ((((TensorSpec(shape=(32, 32, 32, 6), dtype=tf.float64, name='data/0/0'), TensorSpec(shape=(32, 32, 32, 6), dtype=tf.float64, name='data/0/1'), TensorSpec(shape=(32, 32, 32, 6), dtype=tf.float64, name='data/0/2'), TensorSpec(shape=(32, 28), dtype=tf.float64, name='data/0/3')), TensorSpec(shape=(32, 32, 32, 2), dtype=tf.float64, name='data/1')), <tensorflow.python.framework.func_graph.UnknownArgument object at 0x148f1c520>), {}).\n"
     ]
    },
    {
     "name": "stderr",
     "output_type": "stream",
     "text": [
      " INFO - Unsupported signature for serialization: ((((TensorSpec(shape=(32, 32, 32, 6), dtype=tf.float64, name='data/0/0'), TensorSpec(shape=(32, 32, 32, 6), dtype=tf.float64, name='data/0/1'), TensorSpec(shape=(32, 32, 32, 6), dtype=tf.float64, name='data/0/2'), TensorSpec(shape=(32, 28), dtype=tf.float64, name='data/0/3')), TensorSpec(shape=(32, 32, 32, 2), dtype=tf.float64, name='data/1')), <tensorflow.python.framework.func_graph.UnknownArgument object at 0x148f1c520>), {}).\n",
      " WARNING - Found untraced functions such as test_step, conv2d_layer_call_fn, conv2d_layer_call_and_return_conditional_losses, _jit_compiled_convolution_op, conv2d_25_layer_call_fn while saving (showing 5 of 455). These functions will not be directly callable after loading.\n"
     ]
    },
    {
     "name": "stdout",
     "output_type": "stream",
     "text": [
      "INFO:tensorflow:Assets written to: model_logs/20230408-122535/assets\n"
     ]
    },
    {
     "name": "stderr",
     "output_type": "stream",
     "text": [
      " INFO - Assets written to: model_logs/20230408-122535/assets\n"
     ]
    }
   ],
   "source": [
    "for epoch in range(nb_epoch):\n",
    "    \n",
    "    print(\"Epoch: {}\\t\".format(epoch), )\n",
    "    \n",
    "    # training\n",
    "    num_batches = X_train[0].shape[0] // batch_size\n",
    "    for b in range(num_batches):\n",
    "        x_batch, y_batch = next(train_batch_generator)\n",
    "        x_closeness = x_batch[0]\n",
    "        x_period = x_batch[1]\n",
    "        x_trend = x_batch[2]\n",
    "        x_ext = x_batch[3]\n",
    "        g.train_step(((x_closeness, x_period, x_trend, x_ext), y_batch))\n",
    "        \n",
    "        #with tf.summary.create_file_writer(log_dir + '/train').as_default():\n",
    "        #    tf.summary.scalar('loss', loss_tr, step=epoch * num_batches + b)\n",
    "    \n",
    "    MSE_train = g.train_loss_logger.result()\n",
    "    g.train_loss_logger.reset_states()\n",
    "    \n",
    "    # testing\n",
    "    num_batches = X_test[0].shape[0] // batch_size\n",
    "    for b in range(num_batches):\n",
    "        x_batch, y_batch = next(test_batch_generator)\n",
    "        x_closeness = x_batch[0]\n",
    "        x_period = x_batch[1]\n",
    "        x_trend = x_batch[2]\n",
    "        x_ext = x_batch[3]\n",
    "        result = g.test_step(((x_closeness, x_period, x_trend, x_ext), y_batch), mmn)\n",
    "\n",
    "        #with tf.summary.create_file_writer(log_dir + '/val').as_default():\n",
    "        #    tf.summary.scalar('loss', loss_t, step=epoch * num_batches + b)\n",
    "    \n",
    "    RMSE_test = tf.math.sqrt(g.test_loss_logger.result())\n",
    "    g.test_loss_logger.reset_states()\n",
    "    \n",
    "    print(\"MSE_train: {:.5f}, RMSE_test: {:.5f}\".format(MSE_train, RMSE_test))\n",
    "    RMSE.append(RMSE_test)\n",
    "    \n",
    "    # Save the model after every epoch\n",
    "    g.save(model_path)\n",
    "    "
   ]
  },
  {
   "cell_type": "code",
   "execution_count": 10,
   "id": "65b521f4-d91a-4d50-a0a0-d9dd47800976",
   "metadata": {},
   "outputs": [
    {
     "data": {
      "image/png": "[encoded data removed]",
      "text/plain": [
       "<Figure size 640x480 with 1 Axes>"
      ]
     },
     "metadata": {},
     "output_type": "display_data"
    }
   ],
   "source": [
    "import matplotlib.pyplot as plt\n",
    "\n",
    "mpl_logger = logging.getLogger('matplotlib')\n",
    "mpl_logger.setLevel(logging.WARNING)\n",
    "\n",
    "epochs = range(1, len(RMSE)+1)\n",
    "plt.plot(epochs, RMSE)\n",
    "plt.xlabel('Epochs')\n",
    "plt.ylabel('RMSE')\n",
    "\n",
    "plt.show()\n"
   ]
  },
  {
   "cell_type": "code",
   "execution_count": null,
   "id": "59f2011d-3b83-4076-881a-c7830843c64e",
   "metadata": {},
   "outputs": [],
   "source": []
  }
 ],
 "metadata": {
  "kernelspec": {
   "display_name": "My Environment",
   "language": "python",
   "name": "myenv"
  },
  "language_info": {
   "codemirror_mode": {
    "name": "ipython",
    "version": 3
   },
   "file_extension": ".py",
   "mimetype": "text/x-python",
   "name": "python",
   "nbconvert_exporter": "python",
   "pygments_lexer": "ipython3",
   "version": "3.10.8"
  }
 },
 "nbformat": 4,
 "nbformat_minor": 5
}
